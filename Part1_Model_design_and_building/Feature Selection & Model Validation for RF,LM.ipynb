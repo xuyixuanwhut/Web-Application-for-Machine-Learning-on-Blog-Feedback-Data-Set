{
 "cells": [
  {
   "cell_type": "markdown",
   "metadata": {},
   "source": [
    "# Feature Selection\n",
    "In this part, we will select features for the three models we will use\n"
   ]
  },
  {
   "cell_type": "markdown",
   "metadata": {},
   "source": [
    "## Random Forest Feature Selection\n",
    "For Random Forest, we will try three methord. After analysis, we find the benchmark model is the best, so we will keep all feature\n",
    "<br>\n",
    "> 1.Benchmark\n",
    "<br>\n",
    "> 2.Boruta \n",
    "<br>\n",
    "> 3.Tree feature importance"
   ]
  },
  {
   "cell_type": "code",
   "execution_count": 1,
   "metadata": {
    "collapsed": true
   },
   "outputs": [],
   "source": [
    "import pandas as pd\n",
    "import dask.dataframe as dd\n",
    "import numpy as np\n",
    "from sklearn.ensemble import RandomForestRegressor\n",
    "import math\n",
    "from boruta import BorutaPy\n",
    "import dask.dataframe as dd\n",
    "from dask.distributed import Client\n",
    "from Error_Metrics import ErrorMetrics\n",
    "from sklearn.externals.joblib import parallel_backend\n",
    "import distributed.joblib\n",
    "import matplotlib.pyplot as plt\n",
    "%config InlineBackend.figure_format='retina'"
   ]
  },
  {
   "cell_type": "code",
   "execution_count": 2,
   "metadata": {
    "collapsed": true
   },
   "outputs": [],
   "source": [
    "df_train = pd.read_csv('blog_feedback_train.csv')\n",
    "df_test = pd.read_csv('blog_feedback_test.csv')\n",
    "X_train = df_train.loc[:, df_train.columns != '281']\n",
    "y_train = df_train['281']\n",
    "X_test = df_test.loc[:,df_test.columns != '281']\n",
    "y_test = df_test['281']"
   ]
  },
  {
   "cell_type": "markdown",
   "metadata": {},
   "source": [
    "### Benchmark "
   ]
  },
  {
   "cell_type": "code",
   "execution_count": 23,
   "metadata": {
    "collapsed": true
   },
   "outputs": [],
   "source": [
    "rf_b = RandomForestRegressor()\n",
    "with parallel_backend('dask.distributed'):\n",
    "    rf_b.fit(X_train, y_train)"
   ]
  },
  {
   "cell_type": "code",
   "execution_count": 24,
   "metadata": {
    "collapsed": true
   },
   "outputs": [],
   "source": [
    "error_metrics_rf_b = ErrorMetrics(X_train, y_train, X_test, y_test)\n",
    "error_metrics_rf_b.cal_metric('rf_benchmark', rf_b)"
   ]
  },
  {
   "cell_type": "code",
   "execution_count": 25,
   "metadata": {},
   "outputs": [
    {
     "data": {
      "text/html": [
       "<div>\n",
       "<style scoped>\n",
       "    .dataframe tbody tr th:only-of-type {\n",
       "        vertical-align: middle;\n",
       "    }\n",
       "\n",
       "    .dataframe tbody tr th {\n",
       "        vertical-align: top;\n",
       "    }\n",
       "\n",
       "    .dataframe thead th {\n",
       "        text-align: right;\n",
       "    }\n",
       "</style>\n",
       "<table border=\"1\" class=\"dataframe\">\n",
       "  <thead>\n",
       "    <tr style=\"text-align: right;\">\n",
       "      <th></th>\n",
       "      <th>Model</th>\n",
       "      <th>mae_test</th>\n",
       "      <th>mae_train</th>\n",
       "      <th>mape_test</th>\n",
       "      <th>mape_train</th>\n",
       "      <th>r_test</th>\n",
       "      <th>r_train</th>\n",
       "      <th>rmse_test</th>\n",
       "      <th>rmse_train</th>\n",
       "    </tr>\n",
       "  </thead>\n",
       "  <tbody>\n",
       "    <tr>\n",
       "      <th>0</th>\n",
       "      <td>rf_benchmark</td>\n",
       "      <td>5.395912</td>\n",
       "      <td>2.124367</td>\n",
       "      <td>inf</td>\n",
       "      <td>inf</td>\n",
       "      <td>0.365769</td>\n",
       "      <td>0.902819</td>\n",
       "      <td>24.289692</td>\n",
       "      <td>11.754497</td>\n",
       "    </tr>\n",
       "  </tbody>\n",
       "</table>\n",
       "</div>"
      ],
      "text/plain": [
       "          Model  mae_test  mae_train  mape_test  mape_train    r_test  \\\n",
       "0  rf_benchmark  5.395912   2.124367        inf         inf  0.365769   \n",
       "\n",
       "    r_train  rmse_test  rmse_train  \n",
       "0  0.902819  24.289692   11.754497  "
      ]
     },
     "execution_count": 25,
     "metadata": {},
     "output_type": "execute_result"
    }
   ],
   "source": [
    "error_metrics_rf_b.error_metric"
   ]
  },
  {
   "cell_type": "markdown",
   "metadata": {},
   "source": [
    "### Boruta for random Forest feature selection"
   ]
  },
  {
   "cell_type": "code",
   "execution_count": 26,
   "metadata": {
    "scrolled": true
   },
   "outputs": [
    {
     "name": "stdout",
     "output_type": "stream",
     "text": [
      "Iteration: \t1 / 100\n",
      "Confirmed: \t0\n",
      "Tentative: \t222\n",
      "Rejected: \t0\n",
      "Iteration: \t2 / 100\n",
      "Confirmed: \t0\n",
      "Tentative: \t222\n",
      "Rejected: \t0\n",
      "Iteration: \t3 / 100\n",
      "Confirmed: \t0\n",
      "Tentative: \t222\n",
      "Rejected: \t0\n",
      "Iteration: \t4 / 100\n",
      "Confirmed: \t0\n",
      "Tentative: \t222\n",
      "Rejected: \t0\n",
      "Iteration: \t5 / 100\n",
      "Confirmed: \t0\n",
      "Tentative: \t222\n",
      "Rejected: \t0\n",
      "Iteration: \t6 / 100\n",
      "Confirmed: \t0\n",
      "Tentative: \t222\n",
      "Rejected: \t0\n",
      "Iteration: \t7 / 100\n",
      "Confirmed: \t0\n",
      "Tentative: \t222\n",
      "Rejected: \t0\n",
      "Iteration: \t8 / 100\n",
      "Confirmed: \t0\n",
      "Tentative: \t9\n",
      "Rejected: \t213\n"
     ]
    },
    {
     "name": "stderr",
     "output_type": "stream",
     "text": [
      "/Users/xuchenlian/anaconda3/lib/python3.6/site-packages/boruta/boruta_py.py:418: RuntimeWarning: invalid value encountered in greater\n",
      "  hits = np.where(cur_imp[0] > imp_sha_max)[0]\n"
     ]
    },
    {
     "name": "stdout",
     "output_type": "stream",
     "text": [
      "Iteration: \t9 / 100\n",
      "Confirmed: \t4\n",
      "Tentative: \t5\n",
      "Rejected: \t213\n"
     ]
    },
    {
     "name": "stderr",
     "output_type": "stream",
     "text": [
      "/Users/xuchenlian/anaconda3/lib/python3.6/site-packages/boruta/boruta_py.py:418: RuntimeWarning: invalid value encountered in greater\n",
      "  hits = np.where(cur_imp[0] > imp_sha_max)[0]\n"
     ]
    },
    {
     "name": "stdout",
     "output_type": "stream",
     "text": [
      "Iteration: \t10 / 100\n",
      "Confirmed: \t4\n",
      "Tentative: \t5\n",
      "Rejected: \t213\n"
     ]
    },
    {
     "name": "stderr",
     "output_type": "stream",
     "text": [
      "/Users/xuchenlian/anaconda3/lib/python3.6/site-packages/boruta/boruta_py.py:418: RuntimeWarning: invalid value encountered in greater\n",
      "  hits = np.where(cur_imp[0] > imp_sha_max)[0]\n"
     ]
    },
    {
     "name": "stdout",
     "output_type": "stream",
     "text": [
      "Iteration: \t11 / 100\n",
      "Confirmed: \t4\n",
      "Tentative: \t5\n",
      "Rejected: \t213\n"
     ]
    },
    {
     "name": "stderr",
     "output_type": "stream",
     "text": [
      "/Users/xuchenlian/anaconda3/lib/python3.6/site-packages/boruta/boruta_py.py:418: RuntimeWarning: invalid value encountered in greater\n",
      "  hits = np.where(cur_imp[0] > imp_sha_max)[0]\n"
     ]
    },
    {
     "name": "stdout",
     "output_type": "stream",
     "text": [
      "Iteration: \t12 / 100\n",
      "Confirmed: \t5\n",
      "Tentative: \t4\n",
      "Rejected: \t213\n"
     ]
    },
    {
     "name": "stderr",
     "output_type": "stream",
     "text": [
      "/Users/xuchenlian/anaconda3/lib/python3.6/site-packages/boruta/boruta_py.py:418: RuntimeWarning: invalid value encountered in greater\n",
      "  hits = np.where(cur_imp[0] > imp_sha_max)[0]\n"
     ]
    },
    {
     "name": "stdout",
     "output_type": "stream",
     "text": [
      "Iteration: \t13 / 100\n",
      "Confirmed: \t5\n",
      "Tentative: \t4\n",
      "Rejected: \t213\n"
     ]
    },
    {
     "name": "stderr",
     "output_type": "stream",
     "text": [
      "/Users/xuchenlian/anaconda3/lib/python3.6/site-packages/boruta/boruta_py.py:418: RuntimeWarning: invalid value encountered in greater\n",
      "  hits = np.where(cur_imp[0] > imp_sha_max)[0]\n"
     ]
    },
    {
     "name": "stdout",
     "output_type": "stream",
     "text": [
      "Iteration: \t14 / 100\n",
      "Confirmed: \t5\n",
      "Tentative: \t4\n",
      "Rejected: \t213\n"
     ]
    },
    {
     "name": "stderr",
     "output_type": "stream",
     "text": [
      "/Users/xuchenlian/anaconda3/lib/python3.6/site-packages/boruta/boruta_py.py:418: RuntimeWarning: invalid value encountered in greater\n",
      "  hits = np.where(cur_imp[0] > imp_sha_max)[0]\n"
     ]
    },
    {
     "name": "stdout",
     "output_type": "stream",
     "text": [
      "Iteration: \t15 / 100\n",
      "Confirmed: \t5\n",
      "Tentative: \t4\n",
      "Rejected: \t213\n"
     ]
    },
    {
     "name": "stderr",
     "output_type": "stream",
     "text": [
      "/Users/xuchenlian/anaconda3/lib/python3.6/site-packages/boruta/boruta_py.py:418: RuntimeWarning: invalid value encountered in greater\n",
      "  hits = np.where(cur_imp[0] > imp_sha_max)[0]\n"
     ]
    },
    {
     "name": "stdout",
     "output_type": "stream",
     "text": [
      "Iteration: \t16 / 100\n",
      "Confirmed: \t5\n",
      "Tentative: \t3\n",
      "Rejected: \t214\n"
     ]
    },
    {
     "name": "stderr",
     "output_type": "stream",
     "text": [
      "/Users/xuchenlian/anaconda3/lib/python3.6/site-packages/boruta/boruta_py.py:418: RuntimeWarning: invalid value encountered in greater\n",
      "  hits = np.where(cur_imp[0] > imp_sha_max)[0]\n"
     ]
    },
    {
     "name": "stdout",
     "output_type": "stream",
     "text": [
      "Iteration: \t17 / 100\n",
      "Confirmed: \t5\n",
      "Tentative: \t3\n",
      "Rejected: \t214\n"
     ]
    },
    {
     "name": "stderr",
     "output_type": "stream",
     "text": [
      "/Users/xuchenlian/anaconda3/lib/python3.6/site-packages/boruta/boruta_py.py:418: RuntimeWarning: invalid value encountered in greater\n",
      "  hits = np.where(cur_imp[0] > imp_sha_max)[0]\n"
     ]
    },
    {
     "name": "stdout",
     "output_type": "stream",
     "text": [
      "Iteration: \t18 / 100\n",
      "Confirmed: \t5\n",
      "Tentative: \t3\n",
      "Rejected: \t214\n"
     ]
    },
    {
     "name": "stderr",
     "output_type": "stream",
     "text": [
      "/Users/xuchenlian/anaconda3/lib/python3.6/site-packages/boruta/boruta_py.py:418: RuntimeWarning: invalid value encountered in greater\n",
      "  hits = np.where(cur_imp[0] > imp_sha_max)[0]\n"
     ]
    },
    {
     "name": "stdout",
     "output_type": "stream",
     "text": [
      "Iteration: \t19 / 100\n",
      "Confirmed: \t5\n",
      "Tentative: \t3\n",
      "Rejected: \t214\n"
     ]
    },
    {
     "name": "stderr",
     "output_type": "stream",
     "text": [
      "/Users/xuchenlian/anaconda3/lib/python3.6/site-packages/boruta/boruta_py.py:418: RuntimeWarning: invalid value encountered in greater\n",
      "  hits = np.where(cur_imp[0] > imp_sha_max)[0]\n"
     ]
    },
    {
     "name": "stdout",
     "output_type": "stream",
     "text": [
      "Iteration: \t20 / 100\n",
      "Confirmed: \t5\n",
      "Tentative: \t3\n",
      "Rejected: \t214\n"
     ]
    },
    {
     "name": "stderr",
     "output_type": "stream",
     "text": [
      "/Users/xuchenlian/anaconda3/lib/python3.6/site-packages/boruta/boruta_py.py:418: RuntimeWarning: invalid value encountered in greater\n",
      "  hits = np.where(cur_imp[0] > imp_sha_max)[0]\n"
     ]
    },
    {
     "name": "stdout",
     "output_type": "stream",
     "text": [
      "Iteration: \t21 / 100\n",
      "Confirmed: \t5\n",
      "Tentative: \t3\n",
      "Rejected: \t214\n"
     ]
    },
    {
     "name": "stderr",
     "output_type": "stream",
     "text": [
      "/Users/xuchenlian/anaconda3/lib/python3.6/site-packages/boruta/boruta_py.py:418: RuntimeWarning: invalid value encountered in greater\n",
      "  hits = np.where(cur_imp[0] > imp_sha_max)[0]\n"
     ]
    },
    {
     "name": "stdout",
     "output_type": "stream",
     "text": [
      "Iteration: \t22 / 100\n",
      "Confirmed: \t5\n",
      "Tentative: \t3\n",
      "Rejected: \t214\n"
     ]
    },
    {
     "name": "stderr",
     "output_type": "stream",
     "text": [
      "/Users/xuchenlian/anaconda3/lib/python3.6/site-packages/boruta/boruta_py.py:418: RuntimeWarning: invalid value encountered in greater\n",
      "  hits = np.where(cur_imp[0] > imp_sha_max)[0]\n"
     ]
    },
    {
     "name": "stdout",
     "output_type": "stream",
     "text": [
      "Iteration: \t23 / 100\n",
      "Confirmed: \t5\n",
      "Tentative: \t3\n",
      "Rejected: \t214\n"
     ]
    },
    {
     "name": "stderr",
     "output_type": "stream",
     "text": [
      "/Users/xuchenlian/anaconda3/lib/python3.6/site-packages/boruta/boruta_py.py:418: RuntimeWarning: invalid value encountered in greater\n",
      "  hits = np.where(cur_imp[0] > imp_sha_max)[0]\n"
     ]
    },
    {
     "name": "stdout",
     "output_type": "stream",
     "text": [
      "Iteration: \t24 / 100\n",
      "Confirmed: \t5\n",
      "Tentative: \t3\n",
      "Rejected: \t214\n"
     ]
    },
    {
     "name": "stderr",
     "output_type": "stream",
     "text": [
      "/Users/xuchenlian/anaconda3/lib/python3.6/site-packages/boruta/boruta_py.py:418: RuntimeWarning: invalid value encountered in greater\n",
      "  hits = np.where(cur_imp[0] > imp_sha_max)[0]\n"
     ]
    },
    {
     "name": "stdout",
     "output_type": "stream",
     "text": [
      "Iteration: \t25 / 100\n",
      "Confirmed: \t5\n",
      "Tentative: \t3\n",
      "Rejected: \t214\n"
     ]
    },
    {
     "name": "stderr",
     "output_type": "stream",
     "text": [
      "/Users/xuchenlian/anaconda3/lib/python3.6/site-packages/boruta/boruta_py.py:418: RuntimeWarning: invalid value encountered in greater\n",
      "  hits = np.where(cur_imp[0] > imp_sha_max)[0]\n"
     ]
    },
    {
     "name": "stdout",
     "output_type": "stream",
     "text": [
      "Iteration: \t26 / 100\n",
      "Confirmed: \t5\n",
      "Tentative: \t3\n",
      "Rejected: \t214\n"
     ]
    },
    {
     "name": "stderr",
     "output_type": "stream",
     "text": [
      "/Users/xuchenlian/anaconda3/lib/python3.6/site-packages/boruta/boruta_py.py:418: RuntimeWarning: invalid value encountered in greater\n",
      "  hits = np.where(cur_imp[0] > imp_sha_max)[0]\n"
     ]
    },
    {
     "name": "stdout",
     "output_type": "stream",
     "text": [
      "Iteration: \t27 / 100\n",
      "Confirmed: \t5\n",
      "Tentative: \t3\n",
      "Rejected: \t214\n"
     ]
    },
    {
     "name": "stderr",
     "output_type": "stream",
     "text": [
      "/Users/xuchenlian/anaconda3/lib/python3.6/site-packages/boruta/boruta_py.py:418: RuntimeWarning: invalid value encountered in greater\n",
      "  hits = np.where(cur_imp[0] > imp_sha_max)[0]\n"
     ]
    },
    {
     "name": "stdout",
     "output_type": "stream",
     "text": [
      "Iteration: \t28 / 100\n",
      "Confirmed: \t5\n",
      "Tentative: \t3\n",
      "Rejected: \t214\n"
     ]
    },
    {
     "name": "stderr",
     "output_type": "stream",
     "text": [
      "/Users/xuchenlian/anaconda3/lib/python3.6/site-packages/boruta/boruta_py.py:418: RuntimeWarning: invalid value encountered in greater\n",
      "  hits = np.where(cur_imp[0] > imp_sha_max)[0]\n"
     ]
    },
    {
     "name": "stdout",
     "output_type": "stream",
     "text": [
      "Iteration: \t29 / 100\n",
      "Confirmed: \t5\n",
      "Tentative: \t3\n",
      "Rejected: \t214\n"
     ]
    },
    {
     "name": "stderr",
     "output_type": "stream",
     "text": [
      "/Users/xuchenlian/anaconda3/lib/python3.6/site-packages/boruta/boruta_py.py:418: RuntimeWarning: invalid value encountered in greater\n",
      "  hits = np.where(cur_imp[0] > imp_sha_max)[0]\n"
     ]
    },
    {
     "name": "stdout",
     "output_type": "stream",
     "text": [
      "Iteration: \t30 / 100\n",
      "Confirmed: \t5\n",
      "Tentative: \t3\n",
      "Rejected: \t214\n"
     ]
    },
    {
     "name": "stderr",
     "output_type": "stream",
     "text": [
      "/Users/xuchenlian/anaconda3/lib/python3.6/site-packages/boruta/boruta_py.py:418: RuntimeWarning: invalid value encountered in greater\n",
      "  hits = np.where(cur_imp[0] > imp_sha_max)[0]\n"
     ]
    },
    {
     "name": "stdout",
     "output_type": "stream",
     "text": [
      "Iteration: \t31 / 100\n",
      "Confirmed: \t5\n",
      "Tentative: \t3\n",
      "Rejected: \t214\n"
     ]
    },
    {
     "name": "stderr",
     "output_type": "stream",
     "text": [
      "/Users/xuchenlian/anaconda3/lib/python3.6/site-packages/boruta/boruta_py.py:418: RuntimeWarning: invalid value encountered in greater\n",
      "  hits = np.where(cur_imp[0] > imp_sha_max)[0]\n"
     ]
    },
    {
     "name": "stdout",
     "output_type": "stream",
     "text": [
      "Iteration: \t32 / 100\n",
      "Confirmed: \t5\n",
      "Tentative: \t3\n",
      "Rejected: \t214\n"
     ]
    },
    {
     "name": "stderr",
     "output_type": "stream",
     "text": [
      "/Users/xuchenlian/anaconda3/lib/python3.6/site-packages/boruta/boruta_py.py:418: RuntimeWarning: invalid value encountered in greater\n",
      "  hits = np.where(cur_imp[0] > imp_sha_max)[0]\n"
     ]
    },
    {
     "name": "stdout",
     "output_type": "stream",
     "text": [
      "Iteration: \t33 / 100\n",
      "Confirmed: \t5\n",
      "Tentative: \t3\n",
      "Rejected: \t214\n"
     ]
    },
    {
     "name": "stderr",
     "output_type": "stream",
     "text": [
      "/Users/xuchenlian/anaconda3/lib/python3.6/site-packages/boruta/boruta_py.py:418: RuntimeWarning: invalid value encountered in greater\n",
      "  hits = np.where(cur_imp[0] > imp_sha_max)[0]\n"
     ]
    },
    {
     "name": "stdout",
     "output_type": "stream",
     "text": [
      "Iteration: \t34 / 100\n",
      "Confirmed: \t5\n",
      "Tentative: \t2\n",
      "Rejected: \t215\n"
     ]
    },
    {
     "name": "stderr",
     "output_type": "stream",
     "text": [
      "/Users/xuchenlian/anaconda3/lib/python3.6/site-packages/boruta/boruta_py.py:418: RuntimeWarning: invalid value encountered in greater\n",
      "  hits = np.where(cur_imp[0] > imp_sha_max)[0]\n"
     ]
    },
    {
     "name": "stdout",
     "output_type": "stream",
     "text": [
      "Iteration: \t35 / 100\n",
      "Confirmed: \t5\n",
      "Tentative: \t2\n",
      "Rejected: \t215\n"
     ]
    },
    {
     "name": "stderr",
     "output_type": "stream",
     "text": [
      "/Users/xuchenlian/anaconda3/lib/python3.6/site-packages/boruta/boruta_py.py:418: RuntimeWarning: invalid value encountered in greater\n",
      "  hits = np.where(cur_imp[0] > imp_sha_max)[0]\n"
     ]
    },
    {
     "name": "stdout",
     "output_type": "stream",
     "text": [
      "Iteration: \t36 / 100\n",
      "Confirmed: \t5\n",
      "Tentative: \t2\n",
      "Rejected: \t215\n"
     ]
    },
    {
     "name": "stderr",
     "output_type": "stream",
     "text": [
      "/Users/xuchenlian/anaconda3/lib/python3.6/site-packages/boruta/boruta_py.py:418: RuntimeWarning: invalid value encountered in greater\n",
      "  hits = np.where(cur_imp[0] > imp_sha_max)[0]\n"
     ]
    },
    {
     "name": "stdout",
     "output_type": "stream",
     "text": [
      "Iteration: \t37 / 100\n",
      "Confirmed: \t5\n",
      "Tentative: \t2\n",
      "Rejected: \t215\n"
     ]
    },
    {
     "name": "stderr",
     "output_type": "stream",
     "text": [
      "/Users/xuchenlian/anaconda3/lib/python3.6/site-packages/boruta/boruta_py.py:418: RuntimeWarning: invalid value encountered in greater\n",
      "  hits = np.where(cur_imp[0] > imp_sha_max)[0]\n"
     ]
    },
    {
     "name": "stdout",
     "output_type": "stream",
     "text": [
      "Iteration: \t38 / 100\n",
      "Confirmed: \t5\n",
      "Tentative: \t2\n",
      "Rejected: \t215\n"
     ]
    },
    {
     "name": "stderr",
     "output_type": "stream",
     "text": [
      "/Users/xuchenlian/anaconda3/lib/python3.6/site-packages/boruta/boruta_py.py:418: RuntimeWarning: invalid value encountered in greater\n",
      "  hits = np.where(cur_imp[0] > imp_sha_max)[0]\n"
     ]
    },
    {
     "name": "stdout",
     "output_type": "stream",
     "text": [
      "Iteration: \t39 / 100\n",
      "Confirmed: \t5\n",
      "Tentative: \t2\n",
      "Rejected: \t215\n"
     ]
    },
    {
     "name": "stderr",
     "output_type": "stream",
     "text": [
      "/Users/xuchenlian/anaconda3/lib/python3.6/site-packages/boruta/boruta_py.py:418: RuntimeWarning: invalid value encountered in greater\n",
      "  hits = np.where(cur_imp[0] > imp_sha_max)[0]\n"
     ]
    },
    {
     "name": "stdout",
     "output_type": "stream",
     "text": [
      "Iteration: \t40 / 100\n",
      "Confirmed: \t5\n",
      "Tentative: \t2\n",
      "Rejected: \t215\n"
     ]
    },
    {
     "name": "stderr",
     "output_type": "stream",
     "text": [
      "/Users/xuchenlian/anaconda3/lib/python3.6/site-packages/boruta/boruta_py.py:418: RuntimeWarning: invalid value encountered in greater\n",
      "  hits = np.where(cur_imp[0] > imp_sha_max)[0]\n"
     ]
    },
    {
     "name": "stdout",
     "output_type": "stream",
     "text": [
      "Iteration: \t41 / 100\n",
      "Confirmed: \t5\n",
      "Tentative: \t2\n",
      "Rejected: \t215\n"
     ]
    },
    {
     "name": "stderr",
     "output_type": "stream",
     "text": [
      "/Users/xuchenlian/anaconda3/lib/python3.6/site-packages/boruta/boruta_py.py:418: RuntimeWarning: invalid value encountered in greater\n",
      "  hits = np.where(cur_imp[0] > imp_sha_max)[0]\n"
     ]
    },
    {
     "name": "stdout",
     "output_type": "stream",
     "text": [
      "Iteration: \t42 / 100\n",
      "Confirmed: \t5\n",
      "Tentative: \t2\n",
      "Rejected: \t215\n"
     ]
    },
    {
     "name": "stderr",
     "output_type": "stream",
     "text": [
      "/Users/xuchenlian/anaconda3/lib/python3.6/site-packages/boruta/boruta_py.py:418: RuntimeWarning: invalid value encountered in greater\n",
      "  hits = np.where(cur_imp[0] > imp_sha_max)[0]\n"
     ]
    },
    {
     "name": "stdout",
     "output_type": "stream",
     "text": [
      "Iteration: \t43 / 100\n",
      "Confirmed: \t5\n",
      "Tentative: \t2\n",
      "Rejected: \t215\n"
     ]
    },
    {
     "name": "stderr",
     "output_type": "stream",
     "text": [
      "/Users/xuchenlian/anaconda3/lib/python3.6/site-packages/boruta/boruta_py.py:418: RuntimeWarning: invalid value encountered in greater\n",
      "  hits = np.where(cur_imp[0] > imp_sha_max)[0]\n"
     ]
    },
    {
     "name": "stdout",
     "output_type": "stream",
     "text": [
      "Iteration: \t44 / 100\n",
      "Confirmed: \t5\n",
      "Tentative: \t2\n",
      "Rejected: \t215\n"
     ]
    },
    {
     "name": "stderr",
     "output_type": "stream",
     "text": [
      "/Users/xuchenlian/anaconda3/lib/python3.6/site-packages/boruta/boruta_py.py:418: RuntimeWarning: invalid value encountered in greater\n",
      "  hits = np.where(cur_imp[0] > imp_sha_max)[0]\n"
     ]
    },
    {
     "name": "stdout",
     "output_type": "stream",
     "text": [
      "Iteration: \t45 / 100\n",
      "Confirmed: \t5\n",
      "Tentative: \t2\n",
      "Rejected: \t215\n"
     ]
    },
    {
     "name": "stderr",
     "output_type": "stream",
     "text": [
      "/Users/xuchenlian/anaconda3/lib/python3.6/site-packages/boruta/boruta_py.py:418: RuntimeWarning: invalid value encountered in greater\n",
      "  hits = np.where(cur_imp[0] > imp_sha_max)[0]\n"
     ]
    },
    {
     "name": "stdout",
     "output_type": "stream",
     "text": [
      "Iteration: \t46 / 100\n",
      "Confirmed: \t5\n",
      "Tentative: \t2\n",
      "Rejected: \t215\n"
     ]
    },
    {
     "name": "stderr",
     "output_type": "stream",
     "text": [
      "/Users/xuchenlian/anaconda3/lib/python3.6/site-packages/boruta/boruta_py.py:418: RuntimeWarning: invalid value encountered in greater\n",
      "  hits = np.where(cur_imp[0] > imp_sha_max)[0]\n"
     ]
    },
    {
     "name": "stdout",
     "output_type": "stream",
     "text": [
      "Iteration: \t47 / 100\n",
      "Confirmed: \t5\n",
      "Tentative: \t2\n",
      "Rejected: \t215\n"
     ]
    },
    {
     "name": "stderr",
     "output_type": "stream",
     "text": [
      "/Users/xuchenlian/anaconda3/lib/python3.6/site-packages/boruta/boruta_py.py:418: RuntimeWarning: invalid value encountered in greater\n",
      "  hits = np.where(cur_imp[0] > imp_sha_max)[0]\n"
     ]
    },
    {
     "name": "stdout",
     "output_type": "stream",
     "text": [
      "Iteration: \t48 / 100\n",
      "Confirmed: \t5\n",
      "Tentative: \t2\n",
      "Rejected: \t215\n"
     ]
    },
    {
     "name": "stderr",
     "output_type": "stream",
     "text": [
      "/Users/xuchenlian/anaconda3/lib/python3.6/site-packages/boruta/boruta_py.py:418: RuntimeWarning: invalid value encountered in greater\n",
      "  hits = np.where(cur_imp[0] > imp_sha_max)[0]\n"
     ]
    },
    {
     "name": "stdout",
     "output_type": "stream",
     "text": [
      "Iteration: \t49 / 100\n",
      "Confirmed: \t5\n",
      "Tentative: \t2\n",
      "Rejected: \t215\n"
     ]
    },
    {
     "name": "stderr",
     "output_type": "stream",
     "text": [
      "/Users/xuchenlian/anaconda3/lib/python3.6/site-packages/boruta/boruta_py.py:418: RuntimeWarning: invalid value encountered in greater\n",
      "  hits = np.where(cur_imp[0] > imp_sha_max)[0]\n"
     ]
    },
    {
     "name": "stdout",
     "output_type": "stream",
     "text": [
      "Iteration: \t50 / 100\n",
      "Confirmed: \t5\n",
      "Tentative: \t2\n",
      "Rejected: \t215\n"
     ]
    },
    {
     "name": "stderr",
     "output_type": "stream",
     "text": [
      "/Users/xuchenlian/anaconda3/lib/python3.6/site-packages/boruta/boruta_py.py:418: RuntimeWarning: invalid value encountered in greater\n",
      "  hits = np.where(cur_imp[0] > imp_sha_max)[0]\n"
     ]
    },
    {
     "name": "stdout",
     "output_type": "stream",
     "text": [
      "Iteration: \t51 / 100\n",
      "Confirmed: \t6\n",
      "Tentative: \t1\n",
      "Rejected: \t215\n"
     ]
    },
    {
     "name": "stderr",
     "output_type": "stream",
     "text": [
      "/Users/xuchenlian/anaconda3/lib/python3.6/site-packages/boruta/boruta_py.py:418: RuntimeWarning: invalid value encountered in greater\n",
      "  hits = np.where(cur_imp[0] > imp_sha_max)[0]\n"
     ]
    },
    {
     "name": "stdout",
     "output_type": "stream",
     "text": [
      "Iteration: \t52 / 100\n",
      "Confirmed: \t6\n",
      "Tentative: \t1\n",
      "Rejected: \t215\n"
     ]
    },
    {
     "name": "stderr",
     "output_type": "stream",
     "text": [
      "/Users/xuchenlian/anaconda3/lib/python3.6/site-packages/boruta/boruta_py.py:418: RuntimeWarning: invalid value encountered in greater\n",
      "  hits = np.where(cur_imp[0] > imp_sha_max)[0]\n"
     ]
    },
    {
     "name": "stdout",
     "output_type": "stream",
     "text": [
      "Iteration: \t53 / 100\n",
      "Confirmed: \t6\n",
      "Tentative: \t1\n",
      "Rejected: \t215\n"
     ]
    },
    {
     "name": "stderr",
     "output_type": "stream",
     "text": [
      "/Users/xuchenlian/anaconda3/lib/python3.6/site-packages/boruta/boruta_py.py:418: RuntimeWarning: invalid value encountered in greater\n",
      "  hits = np.where(cur_imp[0] > imp_sha_max)[0]\n"
     ]
    },
    {
     "name": "stdout",
     "output_type": "stream",
     "text": [
      "Iteration: \t54 / 100\n",
      "Confirmed: \t6\n",
      "Tentative: \t1\n",
      "Rejected: \t215\n"
     ]
    },
    {
     "name": "stderr",
     "output_type": "stream",
     "text": [
      "/Users/xuchenlian/anaconda3/lib/python3.6/site-packages/boruta/boruta_py.py:418: RuntimeWarning: invalid value encountered in greater\n",
      "  hits = np.where(cur_imp[0] > imp_sha_max)[0]\n"
     ]
    },
    {
     "name": "stdout",
     "output_type": "stream",
     "text": [
      "Iteration: \t55 / 100\n",
      "Confirmed: \t6\n",
      "Tentative: \t1\n",
      "Rejected: \t215\n"
     ]
    },
    {
     "name": "stderr",
     "output_type": "stream",
     "text": [
      "/Users/xuchenlian/anaconda3/lib/python3.6/site-packages/boruta/boruta_py.py:418: RuntimeWarning: invalid value encountered in greater\n",
      "  hits = np.where(cur_imp[0] > imp_sha_max)[0]\n"
     ]
    },
    {
     "name": "stdout",
     "output_type": "stream",
     "text": [
      "Iteration: \t56 / 100\n",
      "Confirmed: \t6\n",
      "Tentative: \t1\n",
      "Rejected: \t215\n"
     ]
    },
    {
     "name": "stderr",
     "output_type": "stream",
     "text": [
      "/Users/xuchenlian/anaconda3/lib/python3.6/site-packages/boruta/boruta_py.py:418: RuntimeWarning: invalid value encountered in greater\n",
      "  hits = np.where(cur_imp[0] > imp_sha_max)[0]\n"
     ]
    },
    {
     "name": "stdout",
     "output_type": "stream",
     "text": [
      "Iteration: \t57 / 100\n",
      "Confirmed: \t6\n",
      "Tentative: \t1\n",
      "Rejected: \t215\n"
     ]
    },
    {
     "name": "stderr",
     "output_type": "stream",
     "text": [
      "/Users/xuchenlian/anaconda3/lib/python3.6/site-packages/boruta/boruta_py.py:418: RuntimeWarning: invalid value encountered in greater\n",
      "  hits = np.where(cur_imp[0] > imp_sha_max)[0]\n"
     ]
    },
    {
     "name": "stdout",
     "output_type": "stream",
     "text": [
      "Iteration: \t58 / 100\n",
      "Confirmed: \t6\n",
      "Tentative: \t1\n",
      "Rejected: \t215\n"
     ]
    },
    {
     "name": "stderr",
     "output_type": "stream",
     "text": [
      "/Users/xuchenlian/anaconda3/lib/python3.6/site-packages/boruta/boruta_py.py:418: RuntimeWarning: invalid value encountered in greater\n",
      "  hits = np.where(cur_imp[0] > imp_sha_max)[0]\n"
     ]
    },
    {
     "name": "stdout",
     "output_type": "stream",
     "text": [
      "Iteration: \t59 / 100\n",
      "Confirmed: \t6\n",
      "Tentative: \t1\n",
      "Rejected: \t215\n"
     ]
    },
    {
     "name": "stderr",
     "output_type": "stream",
     "text": [
      "/Users/xuchenlian/anaconda3/lib/python3.6/site-packages/boruta/boruta_py.py:418: RuntimeWarning: invalid value encountered in greater\n",
      "  hits = np.where(cur_imp[0] > imp_sha_max)[0]\n"
     ]
    },
    {
     "name": "stdout",
     "output_type": "stream",
     "text": [
      "Iteration: \t60 / 100\n",
      "Confirmed: \t6\n",
      "Tentative: \t1\n",
      "Rejected: \t215\n"
     ]
    },
    {
     "name": "stderr",
     "output_type": "stream",
     "text": [
      "/Users/xuchenlian/anaconda3/lib/python3.6/site-packages/boruta/boruta_py.py:418: RuntimeWarning: invalid value encountered in greater\n",
      "  hits = np.where(cur_imp[0] > imp_sha_max)[0]\n"
     ]
    },
    {
     "name": "stdout",
     "output_type": "stream",
     "text": [
      "Iteration: \t61 / 100\n",
      "Confirmed: \t6\n",
      "Tentative: \t1\n",
      "Rejected: \t215\n"
     ]
    },
    {
     "name": "stderr",
     "output_type": "stream",
     "text": [
      "/Users/xuchenlian/anaconda3/lib/python3.6/site-packages/boruta/boruta_py.py:418: RuntimeWarning: invalid value encountered in greater\n",
      "  hits = np.where(cur_imp[0] > imp_sha_max)[0]\n"
     ]
    },
    {
     "name": "stdout",
     "output_type": "stream",
     "text": [
      "Iteration: \t62 / 100\n",
      "Confirmed: \t6\n",
      "Tentative: \t1\n",
      "Rejected: \t215\n"
     ]
    },
    {
     "name": "stderr",
     "output_type": "stream",
     "text": [
      "/Users/xuchenlian/anaconda3/lib/python3.6/site-packages/boruta/boruta_py.py:418: RuntimeWarning: invalid value encountered in greater\n",
      "  hits = np.where(cur_imp[0] > imp_sha_max)[0]\n"
     ]
    },
    {
     "name": "stdout",
     "output_type": "stream",
     "text": [
      "Iteration: \t63 / 100\n",
      "Confirmed: \t6\n",
      "Tentative: \t1\n",
      "Rejected: \t215\n"
     ]
    },
    {
     "name": "stderr",
     "output_type": "stream",
     "text": [
      "/Users/xuchenlian/anaconda3/lib/python3.6/site-packages/boruta/boruta_py.py:418: RuntimeWarning: invalid value encountered in greater\n",
      "  hits = np.where(cur_imp[0] > imp_sha_max)[0]\n"
     ]
    },
    {
     "name": "stdout",
     "output_type": "stream",
     "text": [
      "Iteration: \t64 / 100\n",
      "Confirmed: \t6\n",
      "Tentative: \t1\n",
      "Rejected: \t215\n"
     ]
    },
    {
     "name": "stderr",
     "output_type": "stream",
     "text": [
      "/Users/xuchenlian/anaconda3/lib/python3.6/site-packages/boruta/boruta_py.py:418: RuntimeWarning: invalid value encountered in greater\n",
      "  hits = np.where(cur_imp[0] > imp_sha_max)[0]\n"
     ]
    },
    {
     "name": "stdout",
     "output_type": "stream",
     "text": [
      "Iteration: \t65 / 100\n",
      "Confirmed: \t6\n",
      "Tentative: \t1\n",
      "Rejected: \t215\n"
     ]
    },
    {
     "name": "stderr",
     "output_type": "stream",
     "text": [
      "/Users/xuchenlian/anaconda3/lib/python3.6/site-packages/boruta/boruta_py.py:418: RuntimeWarning: invalid value encountered in greater\n",
      "  hits = np.where(cur_imp[0] > imp_sha_max)[0]\n"
     ]
    },
    {
     "name": "stdout",
     "output_type": "stream",
     "text": [
      "Iteration: \t66 / 100\n",
      "Confirmed: \t6\n",
      "Tentative: \t1\n",
      "Rejected: \t215\n"
     ]
    },
    {
     "name": "stderr",
     "output_type": "stream",
     "text": [
      "/Users/xuchenlian/anaconda3/lib/python3.6/site-packages/boruta/boruta_py.py:418: RuntimeWarning: invalid value encountered in greater\n",
      "  hits = np.where(cur_imp[0] > imp_sha_max)[0]\n"
     ]
    },
    {
     "name": "stdout",
     "output_type": "stream",
     "text": [
      "Iteration: \t67 / 100\n",
      "Confirmed: \t6\n",
      "Tentative: \t1\n",
      "Rejected: \t215\n"
     ]
    },
    {
     "name": "stderr",
     "output_type": "stream",
     "text": [
      "/Users/xuchenlian/anaconda3/lib/python3.6/site-packages/boruta/boruta_py.py:418: RuntimeWarning: invalid value encountered in greater\n",
      "  hits = np.where(cur_imp[0] > imp_sha_max)[0]\n"
     ]
    },
    {
     "name": "stdout",
     "output_type": "stream",
     "text": [
      "Iteration: \t68 / 100\n",
      "Confirmed: \t6\n",
      "Tentative: \t1\n",
      "Rejected: \t215\n"
     ]
    },
    {
     "name": "stderr",
     "output_type": "stream",
     "text": [
      "/Users/xuchenlian/anaconda3/lib/python3.6/site-packages/boruta/boruta_py.py:418: RuntimeWarning: invalid value encountered in greater\n",
      "  hits = np.where(cur_imp[0] > imp_sha_max)[0]\n"
     ]
    },
    {
     "name": "stdout",
     "output_type": "stream",
     "text": [
      "Iteration: \t69 / 100\n",
      "Confirmed: \t6\n",
      "Tentative: \t1\n",
      "Rejected: \t215\n"
     ]
    },
    {
     "name": "stderr",
     "output_type": "stream",
     "text": [
      "/Users/xuchenlian/anaconda3/lib/python3.6/site-packages/boruta/boruta_py.py:418: RuntimeWarning: invalid value encountered in greater\n",
      "  hits = np.where(cur_imp[0] > imp_sha_max)[0]\n"
     ]
    },
    {
     "name": "stdout",
     "output_type": "stream",
     "text": [
      "Iteration: \t70 / 100\n",
      "Confirmed: \t6\n",
      "Tentative: \t1\n",
      "Rejected: \t215\n"
     ]
    },
    {
     "name": "stderr",
     "output_type": "stream",
     "text": [
      "/Users/xuchenlian/anaconda3/lib/python3.6/site-packages/boruta/boruta_py.py:418: RuntimeWarning: invalid value encountered in greater\n",
      "  hits = np.where(cur_imp[0] > imp_sha_max)[0]\n"
     ]
    },
    {
     "name": "stdout",
     "output_type": "stream",
     "text": [
      "Iteration: \t71 / 100\n",
      "Confirmed: \t6\n",
      "Tentative: \t1\n",
      "Rejected: \t215\n"
     ]
    },
    {
     "name": "stderr",
     "output_type": "stream",
     "text": [
      "/Users/xuchenlian/anaconda3/lib/python3.6/site-packages/boruta/boruta_py.py:418: RuntimeWarning: invalid value encountered in greater\n",
      "  hits = np.where(cur_imp[0] > imp_sha_max)[0]\n"
     ]
    },
    {
     "name": "stdout",
     "output_type": "stream",
     "text": [
      "Iteration: \t72 / 100\n",
      "Confirmed: \t6\n",
      "Tentative: \t1\n",
      "Rejected: \t215\n"
     ]
    },
    {
     "name": "stderr",
     "output_type": "stream",
     "text": [
      "/Users/xuchenlian/anaconda3/lib/python3.6/site-packages/boruta/boruta_py.py:418: RuntimeWarning: invalid value encountered in greater\n",
      "  hits = np.where(cur_imp[0] > imp_sha_max)[0]\n"
     ]
    },
    {
     "name": "stdout",
     "output_type": "stream",
     "text": [
      "Iteration: \t73 / 100\n",
      "Confirmed: \t6\n",
      "Tentative: \t1\n",
      "Rejected: \t215\n"
     ]
    },
    {
     "name": "stderr",
     "output_type": "stream",
     "text": [
      "/Users/xuchenlian/anaconda3/lib/python3.6/site-packages/boruta/boruta_py.py:418: RuntimeWarning: invalid value encountered in greater\n",
      "  hits = np.where(cur_imp[0] > imp_sha_max)[0]\n"
     ]
    },
    {
     "name": "stdout",
     "output_type": "stream",
     "text": [
      "Iteration: \t74 / 100\n",
      "Confirmed: \t6\n",
      "Tentative: \t1\n",
      "Rejected: \t215\n"
     ]
    },
    {
     "name": "stderr",
     "output_type": "stream",
     "text": [
      "/Users/xuchenlian/anaconda3/lib/python3.6/site-packages/boruta/boruta_py.py:418: RuntimeWarning: invalid value encountered in greater\n",
      "  hits = np.where(cur_imp[0] > imp_sha_max)[0]\n"
     ]
    },
    {
     "name": "stdout",
     "output_type": "stream",
     "text": [
      "Iteration: \t75 / 100\n",
      "Confirmed: \t6\n",
      "Tentative: \t1\n",
      "Rejected: \t215\n"
     ]
    },
    {
     "name": "stderr",
     "output_type": "stream",
     "text": [
      "/Users/xuchenlian/anaconda3/lib/python3.6/site-packages/boruta/boruta_py.py:418: RuntimeWarning: invalid value encountered in greater\n",
      "  hits = np.where(cur_imp[0] > imp_sha_max)[0]\n"
     ]
    },
    {
     "name": "stdout",
     "output_type": "stream",
     "text": [
      "Iteration: \t76 / 100\n",
      "Confirmed: \t6\n",
      "Tentative: \t1\n",
      "Rejected: \t215\n"
     ]
    },
    {
     "name": "stderr",
     "output_type": "stream",
     "text": [
      "/Users/xuchenlian/anaconda3/lib/python3.6/site-packages/boruta/boruta_py.py:418: RuntimeWarning: invalid value encountered in greater\n",
      "  hits = np.where(cur_imp[0] > imp_sha_max)[0]\n"
     ]
    },
    {
     "name": "stdout",
     "output_type": "stream",
     "text": [
      "Iteration: \t77 / 100\n",
      "Confirmed: \t6\n",
      "Tentative: \t1\n",
      "Rejected: \t215\n"
     ]
    },
    {
     "name": "stderr",
     "output_type": "stream",
     "text": [
      "/Users/xuchenlian/anaconda3/lib/python3.6/site-packages/boruta/boruta_py.py:418: RuntimeWarning: invalid value encountered in greater\n",
      "  hits = np.where(cur_imp[0] > imp_sha_max)[0]\n"
     ]
    },
    {
     "name": "stdout",
     "output_type": "stream",
     "text": [
      "Iteration: \t78 / 100\n",
      "Confirmed: \t6\n",
      "Tentative: \t1\n",
      "Rejected: \t215\n"
     ]
    },
    {
     "name": "stderr",
     "output_type": "stream",
     "text": [
      "/Users/xuchenlian/anaconda3/lib/python3.6/site-packages/boruta/boruta_py.py:418: RuntimeWarning: invalid value encountered in greater\n",
      "  hits = np.where(cur_imp[0] > imp_sha_max)[0]\n"
     ]
    },
    {
     "name": "stdout",
     "output_type": "stream",
     "text": [
      "Iteration: \t79 / 100\n",
      "Confirmed: \t6\n",
      "Tentative: \t1\n",
      "Rejected: \t215\n"
     ]
    },
    {
     "name": "stderr",
     "output_type": "stream",
     "text": [
      "/Users/xuchenlian/anaconda3/lib/python3.6/site-packages/boruta/boruta_py.py:418: RuntimeWarning: invalid value encountered in greater\n",
      "  hits = np.where(cur_imp[0] > imp_sha_max)[0]\n"
     ]
    },
    {
     "name": "stdout",
     "output_type": "stream",
     "text": [
      "Iteration: \t80 / 100\n",
      "Confirmed: \t6\n",
      "Tentative: \t1\n",
      "Rejected: \t215\n"
     ]
    },
    {
     "name": "stderr",
     "output_type": "stream",
     "text": [
      "/Users/xuchenlian/anaconda3/lib/python3.6/site-packages/boruta/boruta_py.py:418: RuntimeWarning: invalid value encountered in greater\n",
      "  hits = np.where(cur_imp[0] > imp_sha_max)[0]\n"
     ]
    },
    {
     "name": "stdout",
     "output_type": "stream",
     "text": [
      "Iteration: \t81 / 100\n",
      "Confirmed: \t6\n",
      "Tentative: \t1\n",
      "Rejected: \t215\n"
     ]
    },
    {
     "name": "stderr",
     "output_type": "stream",
     "text": [
      "/Users/xuchenlian/anaconda3/lib/python3.6/site-packages/boruta/boruta_py.py:418: RuntimeWarning: invalid value encountered in greater\n",
      "  hits = np.where(cur_imp[0] > imp_sha_max)[0]\n"
     ]
    },
    {
     "name": "stdout",
     "output_type": "stream",
     "text": [
      "Iteration: \t82 / 100\n",
      "Confirmed: \t6\n",
      "Tentative: \t1\n",
      "Rejected: \t215\n"
     ]
    },
    {
     "name": "stderr",
     "output_type": "stream",
     "text": [
      "/Users/xuchenlian/anaconda3/lib/python3.6/site-packages/boruta/boruta_py.py:418: RuntimeWarning: invalid value encountered in greater\n",
      "  hits = np.where(cur_imp[0] > imp_sha_max)[0]\n"
     ]
    },
    {
     "name": "stdout",
     "output_type": "stream",
     "text": [
      "Iteration: \t83 / 100\n",
      "Confirmed: \t6\n",
      "Tentative: \t1\n",
      "Rejected: \t215\n"
     ]
    },
    {
     "name": "stderr",
     "output_type": "stream",
     "text": [
      "/Users/xuchenlian/anaconda3/lib/python3.6/site-packages/boruta/boruta_py.py:418: RuntimeWarning: invalid value encountered in greater\n",
      "  hits = np.where(cur_imp[0] > imp_sha_max)[0]\n"
     ]
    },
    {
     "name": "stdout",
     "output_type": "stream",
     "text": [
      "Iteration: \t84 / 100\n",
      "Confirmed: \t6\n",
      "Tentative: \t1\n",
      "Rejected: \t215\n"
     ]
    },
    {
     "name": "stderr",
     "output_type": "stream",
     "text": [
      "/Users/xuchenlian/anaconda3/lib/python3.6/site-packages/boruta/boruta_py.py:418: RuntimeWarning: invalid value encountered in greater\n",
      "  hits = np.where(cur_imp[0] > imp_sha_max)[0]\n"
     ]
    },
    {
     "name": "stdout",
     "output_type": "stream",
     "text": [
      "Iteration: \t85 / 100\n",
      "Confirmed: \t6\n",
      "Tentative: \t1\n",
      "Rejected: \t215\n"
     ]
    },
    {
     "name": "stderr",
     "output_type": "stream",
     "text": [
      "/Users/xuchenlian/anaconda3/lib/python3.6/site-packages/boruta/boruta_py.py:418: RuntimeWarning: invalid value encountered in greater\n",
      "  hits = np.where(cur_imp[0] > imp_sha_max)[0]\n"
     ]
    },
    {
     "name": "stdout",
     "output_type": "stream",
     "text": [
      "Iteration: \t86 / 100\n",
      "Confirmed: \t6\n",
      "Tentative: \t1\n",
      "Rejected: \t215\n"
     ]
    },
    {
     "name": "stderr",
     "output_type": "stream",
     "text": [
      "/Users/xuchenlian/anaconda3/lib/python3.6/site-packages/boruta/boruta_py.py:418: RuntimeWarning: invalid value encountered in greater\n",
      "  hits = np.where(cur_imp[0] > imp_sha_max)[0]\n"
     ]
    },
    {
     "name": "stdout",
     "output_type": "stream",
     "text": [
      "Iteration: \t87 / 100\n",
      "Confirmed: \t6\n",
      "Tentative: \t1\n",
      "Rejected: \t215\n"
     ]
    },
    {
     "name": "stderr",
     "output_type": "stream",
     "text": [
      "/Users/xuchenlian/anaconda3/lib/python3.6/site-packages/boruta/boruta_py.py:418: RuntimeWarning: invalid value encountered in greater\n",
      "  hits = np.where(cur_imp[0] > imp_sha_max)[0]\n"
     ]
    },
    {
     "name": "stdout",
     "output_type": "stream",
     "text": [
      "Iteration: \t88 / 100\n",
      "Confirmed: \t6\n",
      "Tentative: \t1\n",
      "Rejected: \t215\n"
     ]
    },
    {
     "name": "stderr",
     "output_type": "stream",
     "text": [
      "/Users/xuchenlian/anaconda3/lib/python3.6/site-packages/boruta/boruta_py.py:418: RuntimeWarning: invalid value encountered in greater\n",
      "  hits = np.where(cur_imp[0] > imp_sha_max)[0]\n"
     ]
    },
    {
     "name": "stdout",
     "output_type": "stream",
     "text": [
      "Iteration: \t89 / 100\n",
      "Confirmed: \t6\n",
      "Tentative: \t1\n",
      "Rejected: \t215\n"
     ]
    },
    {
     "name": "stderr",
     "output_type": "stream",
     "text": [
      "/Users/xuchenlian/anaconda3/lib/python3.6/site-packages/boruta/boruta_py.py:418: RuntimeWarning: invalid value encountered in greater\n",
      "  hits = np.where(cur_imp[0] > imp_sha_max)[0]\n"
     ]
    },
    {
     "name": "stdout",
     "output_type": "stream",
     "text": [
      "Iteration: \t90 / 100\n",
      "Confirmed: \t6\n",
      "Tentative: \t1\n",
      "Rejected: \t215\n"
     ]
    },
    {
     "name": "stderr",
     "output_type": "stream",
     "text": [
      "/Users/xuchenlian/anaconda3/lib/python3.6/site-packages/boruta/boruta_py.py:418: RuntimeWarning: invalid value encountered in greater\n",
      "  hits = np.where(cur_imp[0] > imp_sha_max)[0]\n"
     ]
    },
    {
     "name": "stdout",
     "output_type": "stream",
     "text": [
      "Iteration: \t91 / 100\n",
      "Confirmed: \t6\n",
      "Tentative: \t1\n",
      "Rejected: \t215\n"
     ]
    },
    {
     "name": "stderr",
     "output_type": "stream",
     "text": [
      "/Users/xuchenlian/anaconda3/lib/python3.6/site-packages/boruta/boruta_py.py:418: RuntimeWarning: invalid value encountered in greater\n",
      "  hits = np.where(cur_imp[0] > imp_sha_max)[0]\n"
     ]
    },
    {
     "name": "stdout",
     "output_type": "stream",
     "text": [
      "Iteration: \t92 / 100\n",
      "Confirmed: \t6\n",
      "Tentative: \t1\n",
      "Rejected: \t215\n"
     ]
    },
    {
     "name": "stderr",
     "output_type": "stream",
     "text": [
      "/Users/xuchenlian/anaconda3/lib/python3.6/site-packages/boruta/boruta_py.py:418: RuntimeWarning: invalid value encountered in greater\n",
      "  hits = np.where(cur_imp[0] > imp_sha_max)[0]\n"
     ]
    },
    {
     "name": "stdout",
     "output_type": "stream",
     "text": [
      "Iteration: \t93 / 100\n",
      "Confirmed: \t6\n",
      "Tentative: \t1\n",
      "Rejected: \t215\n"
     ]
    },
    {
     "name": "stderr",
     "output_type": "stream",
     "text": [
      "/Users/xuchenlian/anaconda3/lib/python3.6/site-packages/boruta/boruta_py.py:418: RuntimeWarning: invalid value encountered in greater\n",
      "  hits = np.where(cur_imp[0] > imp_sha_max)[0]\n"
     ]
    },
    {
     "name": "stdout",
     "output_type": "stream",
     "text": [
      "Iteration: \t94 / 100\n",
      "Confirmed: \t6\n",
      "Tentative: \t1\n",
      "Rejected: \t215\n"
     ]
    },
    {
     "name": "stderr",
     "output_type": "stream",
     "text": [
      "/Users/xuchenlian/anaconda3/lib/python3.6/site-packages/boruta/boruta_py.py:418: RuntimeWarning: invalid value encountered in greater\n",
      "  hits = np.where(cur_imp[0] > imp_sha_max)[0]\n"
     ]
    },
    {
     "name": "stdout",
     "output_type": "stream",
     "text": [
      "Iteration: \t95 / 100\n",
      "Confirmed: \t6\n",
      "Tentative: \t1\n",
      "Rejected: \t215\n"
     ]
    },
    {
     "name": "stderr",
     "output_type": "stream",
     "text": [
      "/Users/xuchenlian/anaconda3/lib/python3.6/site-packages/boruta/boruta_py.py:418: RuntimeWarning: invalid value encountered in greater\n",
      "  hits = np.where(cur_imp[0] > imp_sha_max)[0]\n"
     ]
    },
    {
     "name": "stdout",
     "output_type": "stream",
     "text": [
      "Iteration: \t96 / 100\n",
      "Confirmed: \t6\n",
      "Tentative: \t1\n",
      "Rejected: \t215\n"
     ]
    },
    {
     "name": "stderr",
     "output_type": "stream",
     "text": [
      "/Users/xuchenlian/anaconda3/lib/python3.6/site-packages/boruta/boruta_py.py:418: RuntimeWarning: invalid value encountered in greater\n",
      "  hits = np.where(cur_imp[0] > imp_sha_max)[0]\n"
     ]
    },
    {
     "name": "stdout",
     "output_type": "stream",
     "text": [
      "Iteration: \t97 / 100\n",
      "Confirmed: \t6\n",
      "Tentative: \t1\n",
      "Rejected: \t215\n"
     ]
    },
    {
     "name": "stderr",
     "output_type": "stream",
     "text": [
      "/Users/xuchenlian/anaconda3/lib/python3.6/site-packages/boruta/boruta_py.py:418: RuntimeWarning: invalid value encountered in greater\n",
      "  hits = np.where(cur_imp[0] > imp_sha_max)[0]\n"
     ]
    },
    {
     "name": "stdout",
     "output_type": "stream",
     "text": [
      "Iteration: \t98 / 100\n",
      "Confirmed: \t6\n",
      "Tentative: \t1\n",
      "Rejected: \t215\n",
      "Iteration: \t99 / 100\n",
      "Confirmed: \t6\n",
      "Tentative: \t1\n",
      "Rejected: \t215\n",
      "\n",
      "\n",
      "BorutaPy finished running.\n",
      "\n",
      "Iteration: \t100 / 100\n",
      "Confirmed: \t6\n",
      "Tentative: \t1\n",
      "Rejected: \t215\n"
     ]
    },
    {
     "name": "stderr",
     "output_type": "stream",
     "text": [
      "/Users/xuchenlian/anaconda3/lib/python3.6/site-packages/boruta/boruta_py.py:418: RuntimeWarning: invalid value encountered in greater\n",
      "  hits = np.where(cur_imp[0] > imp_sha_max)[0]\n"
     ]
    },
    {
     "data": {
      "text/plain": [
       "BorutaPy(alpha=0.05,\n",
       "     estimator=RandomForestRegressor(bootstrap=True, criterion='mse', max_depth=None,\n",
       "           max_features='auto', max_leaf_nodes=None,\n",
       "           min_impurity_decrease=0.0, min_impurity_split=None,\n",
       "           min_samples_leaf=1, min_samples_split=2,\n",
       "           min_weight_fraction_leaf=0.0, n_estimators=37, n_jobs=2,\n",
       "           oob_score=False,\n",
       "           random_state=<mtrand.RandomState object at 0x10f614b40>,\n",
       "           verbose=0, warm_start=False),\n",
       "     max_iter=100, n_estimators='auto', perc=100,\n",
       "     random_state=<mtrand.RandomState object at 0x10f614b40>,\n",
       "     two_step=True, verbose=2)"
      ]
     },
     "execution_count": 26,
     "metadata": {},
     "output_type": "execute_result"
    }
   ],
   "source": [
    "X_boruta = df_train.loc[:, df_train.columns != '281'].values\n",
    "y_boruta = df_train['281'].values\n",
    "rf_regressor = RandomForestRegressor(n_estimators=100, n_jobs=2)\n",
    "feat_selector = BorutaPy(rf_regressor, n_estimators='auto', verbose=2)\n",
    "feat_selector.fit(X_boruta,y_boruta)"
   ]
  },
  {
   "cell_type": "code",
   "execution_count": 27,
   "metadata": {},
   "outputs": [
    {
     "data": {
      "text/plain": [
       "Index(['1', '2', '52', '55', '61', '62'], dtype='object')"
      ]
     },
     "execution_count": 27,
     "metadata": {},
     "output_type": "execute_result"
    }
   ],
   "source": [
    "df_train.loc[:, df_train.columns != '281'].columns[feat_selector.support_]"
   ]
  },
  {
   "cell_type": "code",
   "execution_count": 29,
   "metadata": {
    "collapsed": true
   },
   "outputs": [],
   "source": [
    "X_train_rf = df_train.loc[:,feat_selector.support_]\n",
    "X_test_rf = df_test.loc[:,feat_selector.support_]\n",
    "y_train = df_train['281']\n",
    "y_test = df_test['281']"
   ]
  },
  {
   "cell_type": "code",
   "execution_count": 30,
   "metadata": {
    "scrolled": true
   },
   "outputs": [
    {
     "data": {
      "text/plain": [
       "RandomForestRegressor(bootstrap=True, criterion='mse', max_depth=None,\n",
       "           max_features='auto', max_leaf_nodes=None,\n",
       "           min_impurity_decrease=0.0, min_impurity_split=None,\n",
       "           min_samples_leaf=1, min_samples_split=2,\n",
       "           min_weight_fraction_leaf=0.0, n_estimators=10, n_jobs=1,\n",
       "           oob_score=False, random_state=None, verbose=0, warm_start=False)"
      ]
     },
     "execution_count": 30,
     "metadata": {},
     "output_type": "execute_result"
    }
   ],
   "source": [
    "rf = RandomForestRegressor()\n",
    "rf.fit(X_train_rf, y_train)"
   ]
  },
  {
   "cell_type": "code",
   "execution_count": 31,
   "metadata": {
    "collapsed": true
   },
   "outputs": [],
   "source": [
    "error_metrics_rf = ErrorMetrics(X_train_rf, y_train, X_test_rf, y_test)"
   ]
  },
  {
   "cell_type": "code",
   "execution_count": 32,
   "metadata": {
    "collapsed": true
   },
   "outputs": [],
   "source": [
    "error_metrics_rf.cal_metric('boruta_rf', rf)"
   ]
  },
  {
   "cell_type": "code",
   "execution_count": 33,
   "metadata": {},
   "outputs": [
    {
     "data": {
      "text/html": [
       "<div>\n",
       "<style scoped>\n",
       "    .dataframe tbody tr th:only-of-type {\n",
       "        vertical-align: middle;\n",
       "    }\n",
       "\n",
       "    .dataframe tbody tr th {\n",
       "        vertical-align: top;\n",
       "    }\n",
       "\n",
       "    .dataframe thead th {\n",
       "        text-align: right;\n",
       "    }\n",
       "</style>\n",
       "<table border=\"1\" class=\"dataframe\">\n",
       "  <thead>\n",
       "    <tr style=\"text-align: right;\">\n",
       "      <th></th>\n",
       "      <th>Model</th>\n",
       "      <th>mae_test</th>\n",
       "      <th>mae_train</th>\n",
       "      <th>mape_test</th>\n",
       "      <th>mape_train</th>\n",
       "      <th>r_test</th>\n",
       "      <th>r_train</th>\n",
       "      <th>rmse_test</th>\n",
       "      <th>rmse_train</th>\n",
       "    </tr>\n",
       "  </thead>\n",
       "  <tbody>\n",
       "    <tr>\n",
       "      <th>0</th>\n",
       "      <td>boruta_rf</td>\n",
       "      <td>5.24783</td>\n",
       "      <td>2.190253</td>\n",
       "      <td>inf</td>\n",
       "      <td>inf</td>\n",
       "      <td>0.435653</td>\n",
       "      <td>0.902168</td>\n",
       "      <td>22.912446</td>\n",
       "      <td>11.793793</td>\n",
       "    </tr>\n",
       "  </tbody>\n",
       "</table>\n",
       "</div>"
      ],
      "text/plain": [
       "       Model  mae_test  mae_train  mape_test  mape_train    r_test   r_train  \\\n",
       "0  boruta_rf   5.24783   2.190253        inf         inf  0.435653  0.902168   \n",
       "\n",
       "   rmse_test  rmse_train  \n",
       "0  22.912446   11.793793  "
      ]
     },
     "execution_count": 33,
     "metadata": {},
     "output_type": "execute_result"
    }
   ],
   "source": [
    "error_metrics_rf.error_metric"
   ]
  },
  {
   "cell_type": "markdown",
   "metadata": {},
   "source": [
    "### Tree feature importance"
   ]
  },
  {
   "cell_type": "code",
   "execution_count": 34,
   "metadata": {
    "collapsed": true
   },
   "outputs": [],
   "source": [
    "importances = list(rf_b.feature_importances_)\n",
    "feature_importances = [(feature, round(importance, 2)) for feature, importance in zip(X_train.columns, importances)]\n",
    "feature_importances = sorted(feature_importances, key = lambda x: x[1], reverse = True)\n",
    "ft_tree = pd.DataFrame(feature_importances)\n",
    "ft_tree.columns = ['feature','importance']"
   ]
  },
  {
   "cell_type": "code",
   "execution_count": 35,
   "metadata": {
    "collapsed": true
   },
   "outputs": [],
   "source": [
    "ft_tree = pd.DataFrame(feature_importances)\n",
    "ft_tree.columns = ['feature','importance']\n",
    "feat_list = ft_tree[ft_tree.importance > 0]['feature'].values\n",
    "X_train_tree = df_train.loc[:, feat_list]\n",
    "X_test_tree = df_test.loc[:,feat_list]"
   ]
  },
  {
   "cell_type": "code",
   "execution_count": 37,
   "metadata": {},
   "outputs": [
    {
     "data": {
      "text/plain": [
       "RandomForestRegressor(bootstrap=True, criterion='mse', max_depth=None,\n",
       "           max_features='auto', max_leaf_nodes=None,\n",
       "           min_impurity_decrease=0.0, min_impurity_split=None,\n",
       "           min_samples_leaf=1, min_samples_split=2,\n",
       "           min_weight_fraction_leaf=0.0, n_estimators=10, n_jobs=1,\n",
       "           oob_score=False, random_state=None, verbose=0, warm_start=False)"
      ]
     },
     "execution_count": 37,
     "metadata": {},
     "output_type": "execute_result"
    }
   ],
   "source": [
    "rf_tree = RandomForestRegressor()\n",
    "rf_tree.fit(X_train_tree, y_train)"
   ]
  },
  {
   "cell_type": "code",
   "execution_count": 38,
   "metadata": {
    "collapsed": true
   },
   "outputs": [],
   "source": [
    "error_metrics_tree = ErrorMetrics(X_train_tree, y_train, X_test_tree, y_test)"
   ]
  },
  {
   "cell_type": "code",
   "execution_count": 39,
   "metadata": {
    "collapsed": true
   },
   "outputs": [],
   "source": [
    "error_metrics_tree.cal_metric('tree_rf', rf_tree)"
   ]
  },
  {
   "cell_type": "code",
   "execution_count": 40,
   "metadata": {
    "scrolled": true
   },
   "outputs": [
    {
     "data": {
      "text/html": [
       "<div>\n",
       "<style scoped>\n",
       "    .dataframe tbody tr th:only-of-type {\n",
       "        vertical-align: middle;\n",
       "    }\n",
       "\n",
       "    .dataframe tbody tr th {\n",
       "        vertical-align: top;\n",
       "    }\n",
       "\n",
       "    .dataframe thead th {\n",
       "        text-align: right;\n",
       "    }\n",
       "</style>\n",
       "<table border=\"1\" class=\"dataframe\">\n",
       "  <thead>\n",
       "    <tr style=\"text-align: right;\">\n",
       "      <th></th>\n",
       "      <th>Model</th>\n",
       "      <th>mae_test</th>\n",
       "      <th>mae_train</th>\n",
       "      <th>mape_test</th>\n",
       "      <th>mape_train</th>\n",
       "      <th>r_test</th>\n",
       "      <th>r_train</th>\n",
       "      <th>rmse_test</th>\n",
       "      <th>rmse_train</th>\n",
       "    </tr>\n",
       "  </thead>\n",
       "  <tbody>\n",
       "    <tr>\n",
       "      <th>0</th>\n",
       "      <td>rf_benchmark</td>\n",
       "      <td>5.395912</td>\n",
       "      <td>2.124367</td>\n",
       "      <td>inf</td>\n",
       "      <td>inf</td>\n",
       "      <td>0.365769</td>\n",
       "      <td>0.902819</td>\n",
       "      <td>24.289692</td>\n",
       "      <td>11.754497</td>\n",
       "    </tr>\n",
       "    <tr>\n",
       "      <th>0</th>\n",
       "      <td>tree_rf</td>\n",
       "      <td>5.389772</td>\n",
       "      <td>2.088427</td>\n",
       "      <td>inf</td>\n",
       "      <td>inf</td>\n",
       "      <td>0.350078</td>\n",
       "      <td>0.910594</td>\n",
       "      <td>24.588321</td>\n",
       "      <td>11.274456</td>\n",
       "    </tr>\n",
       "    <tr>\n",
       "      <th>0</th>\n",
       "      <td>boruta_rf</td>\n",
       "      <td>5.247830</td>\n",
       "      <td>2.190253</td>\n",
       "      <td>inf</td>\n",
       "      <td>inf</td>\n",
       "      <td>0.435653</td>\n",
       "      <td>0.902168</td>\n",
       "      <td>22.912446</td>\n",
       "      <td>11.793793</td>\n",
       "    </tr>\n",
       "  </tbody>\n",
       "</table>\n",
       "</div>"
      ],
      "text/plain": [
       "          Model  mae_test  mae_train  mape_test  mape_train    r_test  \\\n",
       "0  rf_benchmark  5.395912   2.124367        inf         inf  0.365769   \n",
       "0       tree_rf  5.389772   2.088427        inf         inf  0.350078   \n",
       "0     boruta_rf  5.247830   2.190253        inf         inf  0.435653   \n",
       "\n",
       "    r_train  rmse_test  rmse_train  \n",
       "0  0.902819  24.289692   11.754497  \n",
       "0  0.910594  24.588321   11.274456  \n",
       "0  0.902168  22.912446   11.793793  "
      ]
     },
     "execution_count": 40,
     "metadata": {},
     "output_type": "execute_result"
    }
   ],
   "source": [
    "pd.concat([error_metrics_rf_b.error_metric, error_metrics_tree.error_metric,error_metrics_rf.error_metric], axis=0)"
   ]
  },
  {
   "cell_type": "markdown",
   "metadata": {},
   "source": [
    "## Linear Regression Feature Selection\n",
    "For Linear Regression, we will use two methord\n",
    "<br>\n",
    "> 1.Benchmark\n",
    "<br>\n",
    "> 2.Forward Search"
   ]
  },
  {
   "cell_type": "code",
   "execution_count": 7,
   "metadata": {
    "collapsed": true
   },
   "outputs": [],
   "source": [
    "from sklearn.feature_selection import RFE\n",
    "from sklearn.linear_model import LinearRegression\n",
    "from sklearn.metrics import *\n",
    "from sklearn.feature_selection import RFECV"
   ]
  },
  {
   "cell_type": "code",
   "execution_count": 4,
   "metadata": {
    "collapsed": true
   },
   "outputs": [],
   "source": [
    "df_train_basic = df_train.loc[:,df_train.columns.astype(int)<62]\n",
    "df_test_basic = df_test.loc[:,df_test.columns.astype(int)<62]\n",
    "X_train_basic = df_train_basic\n",
    "X_test_basic = df_test_basic"
   ]
  },
  {
   "cell_type": "code",
   "execution_count": 16,
   "metadata": {},
   "outputs": [
    {
     "data": {
      "text/html": [
       "<table style=\"border: 2px solid white;\">\n",
       "<tr>\n",
       "<td style=\"vertical-align: top; border: 0px solid white\">\n",
       "<h3>Client</h3>\n",
       "<ul>\n",
       "  <li><b>Scheduler: </b>tcp://127.0.0.1:57600\n",
       "  <li><b>Dashboard: </b><a href='http://127.0.0.1:57601' target='_blank'>http://127.0.0.1:57601</a>\n",
       "</ul>\n",
       "</td>\n",
       "<td style=\"vertical-align: top; border: 0px solid white\">\n",
       "<h3>Cluster</h3>\n",
       "<ul>\n",
       "  <li><b>Workers: </b>4</li>\n",
       "  <li><b>Cores: </b>4</li>\n",
       "  <li><b>Memory: </b>8.59 GB</li>\n",
       "</ul>\n",
       "</td>\n",
       "</tr>\n",
       "</table>"
      ],
      "text/plain": [
       "<Client: scheduler='tcp://127.0.0.1:57600' processes=4 cores=4>"
      ]
     },
     "execution_count": 16,
     "metadata": {},
     "output_type": "execute_result"
    }
   ],
   "source": [
    "from distributed import Client, LocalCluster\n",
    "cluster = LocalCluster()\n",
    "client = Client(cluster)\n",
    "client"
   ]
  },
  {
   "cell_type": "code",
   "execution_count": 17,
   "metadata": {
    "collapsed": true
   },
   "outputs": [],
   "source": [
    "lm_ref = LinearRegression()\n",
    "lmecv = RFECV(lm_ref, step=1 ,cv=5,\n",
    "              scoring='neg_mean_squared_error')\n",
    "with parallel_backend('dask.distributed',scheduler_host='tcp://127.0.0.1:57600'):\n",
    "    lm_re= lmecv.fit(X_train, y_train)\n",
    "\n",
    "#print(\"Optimal number of features : %d\" % lm_re.n_features_)"
   ]
  },
  {
   "cell_type": "code",
   "execution_count": 18,
   "metadata": {},
   "outputs": [
    {
     "name": "stdout",
     "output_type": "stream",
     "text": [
      "Optimal number of features : 19\n"
     ]
    }
   ],
   "source": [
    "print(\"Optimal number of features : %d\" % lm_re.n_features_)"
   ]
  },
  {
   "cell_type": "code",
   "execution_count": 24,
   "metadata": {
    "scrolled": false
   },
   "outputs": [
    {
     "data": {
      "image/png": "[encoded data removed]",
      "text/plain": [
       "<matplotlib.figure.Figure at 0x126c70080>"
      ]
     },
     "metadata": {
      "image/png": {
       "height": 272,
       "width": 395
      }
     },
     "output_type": "display_data"
    }
   ],
   "source": [
    "plt.figure()\n",
    "plt.xlabel(\"Number of features selected\")\n",
    "plt.ylabel(\"RMSE(Cross-Validation)\")\n",
    "plt.plot(range(1, len(lm_re.grid_scores_) + 1),lm_re.grid_scores_)\n",
    "plt.show()"
   ]
  },
  {
   "cell_type": "markdown",
   "metadata": {},
   "source": [
    "## Model Validation for Random Forest"
   ]
  },
  {
   "cell_type": "markdown",
   "metadata": {},
   "source": [
    "Picture shows that when the max_depth is 9, Random Forest have best score 29.165035176497778"
   ]
  },
  {
   "cell_type": "code",
   "execution_count": 3,
   "metadata": {
    "scrolled": true
   },
   "outputs": [
    {
     "name": "stdout",
     "output_type": "stream",
     "text": [
      "[36.1605225291529]\n",
      "[36.1605225291529, 34.72811331678114]\n",
      "[36.1605225291529, 34.72811331678114, 33.55427868605136]\n",
      "[36.1605225291529, 34.72811331678114, 33.55427868605136, 31.339270270919997]\n",
      "[36.1605225291529, 34.72811331678114, 33.55427868605136, 31.339270270919997, 29.846176979013464]\n",
      "[36.1605225291529, 34.72811331678114, 33.55427868605136, 31.339270270919997, 29.846176979013464, 29.318514990501047]\n",
      "[36.1605225291529, 34.72811331678114, 33.55427868605136, 31.339270270919997, 29.846176979013464, 29.318514990501047, 29.189433911403057]\n",
      "[36.1605225291529, 34.72811331678114, 33.55427868605136, 31.339270270919997, 29.846176979013464, 29.318514990501047, 29.189433911403057, 29.165035176497778]\n",
      "[36.1605225291529, 34.72811331678114, 33.55427868605136, 31.339270270919997, 29.846176979013464, 29.318514990501047, 29.189433911403057, 29.165035176497778, 29.20963191929579]\n",
      "[36.1605225291529, 34.72811331678114, 33.55427868605136, 31.339270270919997, 29.846176979013464, 29.318514990501047, 29.189433911403057, 29.165035176497778, 29.20963191929579, 29.32679134537987]\n",
      "[36.1605225291529, 34.72811331678114, 33.55427868605136, 31.339270270919997, 29.846176979013464, 29.318514990501047, 29.189433911403057, 29.165035176497778, 29.20963191929579, 29.32679134537987, 29.470927903296054]\n",
      "[36.1605225291529, 34.72811331678114, 33.55427868605136, 31.339270270919997, 29.846176979013464, 29.318514990501047, 29.189433911403057, 29.165035176497778, 29.20963191929579, 29.32679134537987, 29.470927903296054, 29.61131502802504]\n",
      "[36.1605225291529, 34.72811331678114, 33.55427868605136, 31.339270270919997, 29.846176979013464, 29.318514990501047, 29.189433911403057, 29.165035176497778, 29.20963191929579, 29.32679134537987, 29.470927903296054, 29.61131502802504, 29.696708464752653]\n",
      "[36.1605225291529, 34.72811331678114, 33.55427868605136, 31.339270270919997, 29.846176979013464, 29.318514990501047, 29.189433911403057, 29.165035176497778, 29.20963191929579, 29.32679134537987, 29.470927903296054, 29.61131502802504, 29.696708464752653, 29.77251257910198]\n",
      "[36.1605225291529, 34.72811331678114, 33.55427868605136, 31.339270270919997, 29.846176979013464, 29.318514990501047, 29.189433911403057, 29.165035176497778, 29.20963191929579, 29.32679134537987, 29.470927903296054, 29.61131502802504, 29.696708464752653, 29.77251257910198, 29.8909509533125]\n",
      "[36.1605225291529, 34.72811331678114, 33.55427868605136, 31.339270270919997, 29.846176979013464, 29.318514990501047, 29.189433911403057, 29.165035176497778, 29.20963191929579, 29.32679134537987, 29.470927903296054, 29.61131502802504, 29.696708464752653, 29.77251257910198, 29.8909509533125, 29.69632242602937]\n",
      "[36.1605225291529, 34.72811331678114, 33.55427868605136, 31.339270270919997, 29.846176979013464, 29.318514990501047, 29.189433911403057, 29.165035176497778, 29.20963191929579, 29.32679134537987, 29.470927903296054, 29.61131502802504, 29.696708464752653, 29.77251257910198, 29.8909509533125, 29.69632242602937, 29.80195436078733]\n",
      "[36.1605225291529, 34.72811331678114, 33.55427868605136, 31.339270270919997, 29.846176979013464, 29.318514990501047, 29.189433911403057, 29.165035176497778, 29.20963191929579, 29.32679134537987, 29.470927903296054, 29.61131502802504, 29.696708464752653, 29.77251257910198, 29.8909509533125, 29.69632242602937, 29.80195436078733, 29.816792221642913]\n",
      "[36.1605225291529, 34.72811331678114, 33.55427868605136, 31.339270270919997, 29.846176979013464, 29.318514990501047, 29.189433911403057, 29.165035176497778, 29.20963191929579, 29.32679134537987, 29.470927903296054, 29.61131502802504, 29.696708464752653, 29.77251257910198, 29.8909509533125, 29.69632242602937, 29.80195436078733, 29.816792221642913, 29.708959387838924]\n",
      "[36.1605225291529, 34.72811331678114, 33.55427868605136, 31.339270270919997, 29.846176979013464, 29.318514990501047, 29.189433911403057, 29.165035176497778, 29.20963191929579, 29.32679134537987, 29.470927903296054, 29.61131502802504, 29.696708464752653, 29.77251257910198, 29.8909509533125, 29.69632242602937, 29.80195436078733, 29.816792221642913, 29.708959387838924, 29.627896409208166]\n",
      "[36.1605225291529, 34.72811331678114, 33.55427868605136, 31.339270270919997, 29.846176979013464, 29.318514990501047, 29.189433911403057, 29.165035176497778, 29.20963191929579, 29.32679134537987, 29.470927903296054, 29.61131502802504, 29.696708464752653, 29.77251257910198, 29.8909509533125, 29.69632242602937, 29.80195436078733, 29.816792221642913, 29.708959387838924, 29.627896409208166, 29.788823754560177]\n",
      "[36.1605225291529, 34.72811331678114, 33.55427868605136, 31.339270270919997, 29.846176979013464, 29.318514990501047, 29.189433911403057, 29.165035176497778, 29.20963191929579, 29.32679134537987, 29.470927903296054, 29.61131502802504, 29.696708464752653, 29.77251257910198, 29.8909509533125, 29.69632242602937, 29.80195436078733, 29.816792221642913, 29.708959387838924, 29.627896409208166, 29.788823754560177, 29.799646512584175]\n",
      "[36.1605225291529, 34.72811331678114, 33.55427868605136, 31.339270270919997, 29.846176979013464, 29.318514990501047, 29.189433911403057, 29.165035176497778, 29.20963191929579, 29.32679134537987, 29.470927903296054, 29.61131502802504, 29.696708464752653, 29.77251257910198, 29.8909509533125, 29.69632242602937, 29.80195436078733, 29.816792221642913, 29.708959387838924, 29.627896409208166, 29.788823754560177, 29.799646512584175, 29.650708573001914]\n",
      "[36.1605225291529, 34.72811331678114, 33.55427868605136, 31.339270270919997, 29.846176979013464, 29.318514990501047, 29.189433911403057, 29.165035176497778, 29.20963191929579, 29.32679134537987, 29.470927903296054, 29.61131502802504, 29.696708464752653, 29.77251257910198, 29.8909509533125, 29.69632242602937, 29.80195436078733, 29.816792221642913, 29.708959387838924, 29.627896409208166, 29.788823754560177, 29.799646512584175, 29.650708573001914, 29.92834201525766]\n",
      "[36.1605225291529, 34.72811331678114, 33.55427868605136, 31.339270270919997, 29.846176979013464, 29.318514990501047, 29.189433911403057, 29.165035176497778, 29.20963191929579, 29.32679134537987, 29.470927903296054, 29.61131502802504, 29.696708464752653, 29.77251257910198, 29.8909509533125, 29.69632242602937, 29.80195436078733, 29.816792221642913, 29.708959387838924, 29.627896409208166, 29.788823754560177, 29.799646512584175, 29.650708573001914, 29.92834201525766, 29.916949028351752]\n",
      "[36.1605225291529, 34.72811331678114, 33.55427868605136, 31.339270270919997, 29.846176979013464, 29.318514990501047, 29.189433911403057, 29.165035176497778, 29.20963191929579, 29.32679134537987, 29.470927903296054, 29.61131502802504, 29.696708464752653, 29.77251257910198, 29.8909509533125, 29.69632242602937, 29.80195436078733, 29.816792221642913, 29.708959387838924, 29.627896409208166, 29.788823754560177, 29.799646512584175, 29.650708573001914, 29.92834201525766, 29.916949028351752, 29.88029189613026]\n",
      "[36.1605225291529, 34.72811331678114, 33.55427868605136, 31.339270270919997, 29.846176979013464, 29.318514990501047, 29.189433911403057, 29.165035176497778, 29.20963191929579, 29.32679134537987, 29.470927903296054, 29.61131502802504, 29.696708464752653, 29.77251257910198, 29.8909509533125, 29.69632242602937, 29.80195436078733, 29.816792221642913, 29.708959387838924, 29.627896409208166, 29.788823754560177, 29.799646512584175, 29.650708573001914, 29.92834201525766, 29.916949028351752, 29.88029189613026, 29.863980290283436]\n",
      "[36.1605225291529, 34.72811331678114, 33.55427868605136, 31.339270270919997, 29.846176979013464, 29.318514990501047, 29.189433911403057, 29.165035176497778, 29.20963191929579, 29.32679134537987, 29.470927903296054, 29.61131502802504, 29.696708464752653, 29.77251257910198, 29.8909509533125, 29.69632242602937, 29.80195436078733, 29.816792221642913, 29.708959387838924, 29.627896409208166, 29.788823754560177, 29.799646512584175, 29.650708573001914, 29.92834201525766, 29.916949028351752, 29.88029189613026, 29.863980290283436, 29.833929551454656]\n",
      "[36.1605225291529, 34.72811331678114, 33.55427868605136, 31.339270270919997, 29.846176979013464, 29.318514990501047, 29.189433911403057, 29.165035176497778, 29.20963191929579, 29.32679134537987, 29.470927903296054, 29.61131502802504, 29.696708464752653, 29.77251257910198, 29.8909509533125, 29.69632242602937, 29.80195436078733, 29.816792221642913, 29.708959387838924, 29.627896409208166, 29.788823754560177, 29.799646512584175, 29.650708573001914, 29.92834201525766, 29.916949028351752, 29.88029189613026, 29.863980290283436, 29.833929551454656, 29.84724135512252]\n"
     ]
    },
    {
     "name": "stdout",
     "output_type": "stream",
     "text": [
      "[36.1605225291529, 34.72811331678114, 33.55427868605136, 31.339270270919997, 29.846176979013464, 29.318514990501047, 29.189433911403057, 29.165035176497778, 29.20963191929579, 29.32679134537987, 29.470927903296054, 29.61131502802504, 29.696708464752653, 29.77251257910198, 29.8909509533125, 29.69632242602937, 29.80195436078733, 29.816792221642913, 29.708959387838924, 29.627896409208166, 29.788823754560177, 29.799646512584175, 29.650708573001914, 29.92834201525766, 29.916949028351752, 29.88029189613026, 29.863980290283436, 29.833929551454656, 29.84724135512252, 29.92264847510916]\n",
      "[36.1605225291529, 34.72811331678114, 33.55427868605136, 31.339270270919997, 29.846176979013464, 29.318514990501047, 29.189433911403057, 29.165035176497778, 29.20963191929579, 29.32679134537987, 29.470927903296054, 29.61131502802504, 29.696708464752653, 29.77251257910198, 29.8909509533125, 29.69632242602937, 29.80195436078733, 29.816792221642913, 29.708959387838924, 29.627896409208166, 29.788823754560177, 29.799646512584175, 29.650708573001914, 29.92834201525766, 29.916949028351752, 29.88029189613026, 29.863980290283436, 29.833929551454656, 29.84724135512252, 29.92264847510916, 29.891343713384288]\n",
      "[36.1605225291529, 34.72811331678114, 33.55427868605136, 31.339270270919997, 29.846176979013464, 29.318514990501047, 29.189433911403057, 29.165035176497778, 29.20963191929579, 29.32679134537987, 29.470927903296054, 29.61131502802504, 29.696708464752653, 29.77251257910198, 29.8909509533125, 29.69632242602937, 29.80195436078733, 29.816792221642913, 29.708959387838924, 29.627896409208166, 29.788823754560177, 29.799646512584175, 29.650708573001914, 29.92834201525766, 29.916949028351752, 29.88029189613026, 29.863980290283436, 29.833929551454656, 29.84724135512252, 29.92264847510916, 29.891343713384288, 29.825838835707106]\n",
      "[36.1605225291529, 34.72811331678114, 33.55427868605136, 31.339270270919997, 29.846176979013464, 29.318514990501047, 29.189433911403057, 29.165035176497778, 29.20963191929579, 29.32679134537987, 29.470927903296054, 29.61131502802504, 29.696708464752653, 29.77251257910198, 29.8909509533125, 29.69632242602937, 29.80195436078733, 29.816792221642913, 29.708959387838924, 29.627896409208166, 29.788823754560177, 29.799646512584175, 29.650708573001914, 29.92834201525766, 29.916949028351752, 29.88029189613026, 29.863980290283436, 29.833929551454656, 29.84724135512252, 29.92264847510916, 29.891343713384288, 29.825838835707106, 29.78005633436014]\n",
      "[36.1605225291529, 34.72811331678114, 33.55427868605136, 31.339270270919997, 29.846176979013464, 29.318514990501047, 29.189433911403057, 29.165035176497778, 29.20963191929579, 29.32679134537987, 29.470927903296054, 29.61131502802504, 29.696708464752653, 29.77251257910198, 29.8909509533125, 29.69632242602937, 29.80195436078733, 29.816792221642913, 29.708959387838924, 29.627896409208166, 29.788823754560177, 29.799646512584175, 29.650708573001914, 29.92834201525766, 29.916949028351752, 29.88029189613026, 29.863980290283436, 29.833929551454656, 29.84724135512252, 29.92264847510916, 29.891343713384288, 29.825838835707106, 29.78005633436014, 29.79667324928049]\n",
      "[36.1605225291529, 34.72811331678114, 33.55427868605136, 31.339270270919997, 29.846176979013464, 29.318514990501047, 29.189433911403057, 29.165035176497778, 29.20963191929579, 29.32679134537987, 29.470927903296054, 29.61131502802504, 29.696708464752653, 29.77251257910198, 29.8909509533125, 29.69632242602937, 29.80195436078733, 29.816792221642913, 29.708959387838924, 29.627896409208166, 29.788823754560177, 29.799646512584175, 29.650708573001914, 29.92834201525766, 29.916949028351752, 29.88029189613026, 29.863980290283436, 29.833929551454656, 29.84724135512252, 29.92264847510916, 29.891343713384288, 29.825838835707106, 29.78005633436014, 29.79667324928049, 29.805078229472205]\n",
      "[36.1605225291529, 34.72811331678114, 33.55427868605136, 31.339270270919997, 29.846176979013464, 29.318514990501047, 29.189433911403057, 29.165035176497778, 29.20963191929579, 29.32679134537987, 29.470927903296054, 29.61131502802504, 29.696708464752653, 29.77251257910198, 29.8909509533125, 29.69632242602937, 29.80195436078733, 29.816792221642913, 29.708959387838924, 29.627896409208166, 29.788823754560177, 29.799646512584175, 29.650708573001914, 29.92834201525766, 29.916949028351752, 29.88029189613026, 29.863980290283436, 29.833929551454656, 29.84724135512252, 29.92264847510916, 29.891343713384288, 29.825838835707106, 29.78005633436014, 29.79667324928049, 29.805078229472205, 29.83917206116745]\n",
      "[36.1605225291529, 34.72811331678114, 33.55427868605136, 31.339270270919997, 29.846176979013464, 29.318514990501047, 29.189433911403057, 29.165035176497778, 29.20963191929579, 29.32679134537987, 29.470927903296054, 29.61131502802504, 29.696708464752653, 29.77251257910198, 29.8909509533125, 29.69632242602937, 29.80195436078733, 29.816792221642913, 29.708959387838924, 29.627896409208166, 29.788823754560177, 29.799646512584175, 29.650708573001914, 29.92834201525766, 29.916949028351752, 29.88029189613026, 29.863980290283436, 29.833929551454656, 29.84724135512252, 29.92264847510916, 29.891343713384288, 29.825838835707106, 29.78005633436014, 29.79667324928049, 29.805078229472205, 29.83917206116745, 29.821932359120698]\n",
      "[36.1605225291529, 34.72811331678114, 33.55427868605136, 31.339270270919997, 29.846176979013464, 29.318514990501047, 29.189433911403057, 29.165035176497778, 29.20963191929579, 29.32679134537987, 29.470927903296054, 29.61131502802504, 29.696708464752653, 29.77251257910198, 29.8909509533125, 29.69632242602937, 29.80195436078733, 29.816792221642913, 29.708959387838924, 29.627896409208166, 29.788823754560177, 29.799646512584175, 29.650708573001914, 29.92834201525766, 29.916949028351752, 29.88029189613026, 29.863980290283436, 29.833929551454656, 29.84724135512252, 29.92264847510916, 29.891343713384288, 29.825838835707106, 29.78005633436014, 29.79667324928049, 29.805078229472205, 29.83917206116745, 29.821932359120698, 29.784187754206076]\n",
      "[36.1605225291529, 34.72811331678114, 33.55427868605136, 31.339270270919997, 29.846176979013464, 29.318514990501047, 29.189433911403057, 29.165035176497778, 29.20963191929579, 29.32679134537987, 29.470927903296054, 29.61131502802504, 29.696708464752653, 29.77251257910198, 29.8909509533125, 29.69632242602937, 29.80195436078733, 29.816792221642913, 29.708959387838924, 29.627896409208166, 29.788823754560177, 29.799646512584175, 29.650708573001914, 29.92834201525766, 29.916949028351752, 29.88029189613026, 29.863980290283436, 29.833929551454656, 29.84724135512252, 29.92264847510916, 29.891343713384288, 29.825838835707106, 29.78005633436014, 29.79667324928049, 29.805078229472205, 29.83917206116745, 29.821932359120698, 29.784187754206076, 29.80892965527705]\n",
      "[36.1605225291529, 34.72811331678114, 33.55427868605136, 31.339270270919997, 29.846176979013464, 29.318514990501047, 29.189433911403057, 29.165035176497778, 29.20963191929579, 29.32679134537987, 29.470927903296054, 29.61131502802504, 29.696708464752653, 29.77251257910198, 29.8909509533125, 29.69632242602937, 29.80195436078733, 29.816792221642913, 29.708959387838924, 29.627896409208166, 29.788823754560177, 29.799646512584175, 29.650708573001914, 29.92834201525766, 29.916949028351752, 29.88029189613026, 29.863980290283436, 29.833929551454656, 29.84724135512252, 29.92264847510916, 29.891343713384288, 29.825838835707106, 29.78005633436014, 29.79667324928049, 29.805078229472205, 29.83917206116745, 29.821932359120698, 29.784187754206076, 29.80892965527705, 29.796861940411958]\n",
      "[36.1605225291529, 34.72811331678114, 33.55427868605136, 31.339270270919997, 29.846176979013464, 29.318514990501047, 29.189433911403057, 29.165035176497778, 29.20963191929579, 29.32679134537987, 29.470927903296054, 29.61131502802504, 29.696708464752653, 29.77251257910198, 29.8909509533125, 29.69632242602937, 29.80195436078733, 29.816792221642913, 29.708959387838924, 29.627896409208166, 29.788823754560177, 29.799646512584175, 29.650708573001914, 29.92834201525766, 29.916949028351752, 29.88029189613026, 29.863980290283436, 29.833929551454656, 29.84724135512252, 29.92264847510916, 29.891343713384288, 29.825838835707106, 29.78005633436014, 29.79667324928049, 29.805078229472205, 29.83917206116745, 29.821932359120698, 29.784187754206076, 29.80892965527705, 29.796861940411958, 29.803175726164593]\n"
     ]
    },
    {
     "name": "stdout",
     "output_type": "stream",
     "text": [
      "[36.1605225291529, 34.72811331678114, 33.55427868605136, 31.339270270919997, 29.846176979013464, 29.318514990501047, 29.189433911403057, 29.165035176497778, 29.20963191929579, 29.32679134537987, 29.470927903296054, 29.61131502802504, 29.696708464752653, 29.77251257910198, 29.8909509533125, 29.69632242602937, 29.80195436078733, 29.816792221642913, 29.708959387838924, 29.627896409208166, 29.788823754560177, 29.799646512584175, 29.650708573001914, 29.92834201525766, 29.916949028351752, 29.88029189613026, 29.863980290283436, 29.833929551454656, 29.84724135512252, 29.92264847510916, 29.891343713384288, 29.825838835707106, 29.78005633436014, 29.79667324928049, 29.805078229472205, 29.83917206116745, 29.821932359120698, 29.784187754206076, 29.80892965527705, 29.796861940411958, 29.803175726164593, 29.80182867049049]\n",
      "[36.1605225291529, 34.72811331678114, 33.55427868605136, 31.339270270919997, 29.846176979013464, 29.318514990501047, 29.189433911403057, 29.165035176497778, 29.20963191929579, 29.32679134537987, 29.470927903296054, 29.61131502802504, 29.696708464752653, 29.77251257910198, 29.8909509533125, 29.69632242602937, 29.80195436078733, 29.816792221642913, 29.708959387838924, 29.627896409208166, 29.788823754560177, 29.799646512584175, 29.650708573001914, 29.92834201525766, 29.916949028351752, 29.88029189613026, 29.863980290283436, 29.833929551454656, 29.84724135512252, 29.92264847510916, 29.891343713384288, 29.825838835707106, 29.78005633436014, 29.79667324928049, 29.805078229472205, 29.83917206116745, 29.821932359120698, 29.784187754206076, 29.80892965527705, 29.796861940411958, 29.803175726164593, 29.80182867049049, 29.776145325397437]\n",
      "[36.1605225291529, 34.72811331678114, 33.55427868605136, 31.339270270919997, 29.846176979013464, 29.318514990501047, 29.189433911403057, 29.165035176497778, 29.20963191929579, 29.32679134537987, 29.470927903296054, 29.61131502802504, 29.696708464752653, 29.77251257910198, 29.8909509533125, 29.69632242602937, 29.80195436078733, 29.816792221642913, 29.708959387838924, 29.627896409208166, 29.788823754560177, 29.799646512584175, 29.650708573001914, 29.92834201525766, 29.916949028351752, 29.88029189613026, 29.863980290283436, 29.833929551454656, 29.84724135512252, 29.92264847510916, 29.891343713384288, 29.825838835707106, 29.78005633436014, 29.79667324928049, 29.805078229472205, 29.83917206116745, 29.821932359120698, 29.784187754206076, 29.80892965527705, 29.796861940411958, 29.803175726164593, 29.80182867049049, 29.776145325397437, 29.783792070087436]\n",
      "[36.1605225291529, 34.72811331678114, 33.55427868605136, 31.339270270919997, 29.846176979013464, 29.318514990501047, 29.189433911403057, 29.165035176497778, 29.20963191929579, 29.32679134537987, 29.470927903296054, 29.61131502802504, 29.696708464752653, 29.77251257910198, 29.8909509533125, 29.69632242602937, 29.80195436078733, 29.816792221642913, 29.708959387838924, 29.627896409208166, 29.788823754560177, 29.799646512584175, 29.650708573001914, 29.92834201525766, 29.916949028351752, 29.88029189613026, 29.863980290283436, 29.833929551454656, 29.84724135512252, 29.92264847510916, 29.891343713384288, 29.825838835707106, 29.78005633436014, 29.79667324928049, 29.805078229472205, 29.83917206116745, 29.821932359120698, 29.784187754206076, 29.80892965527705, 29.796861940411958, 29.803175726164593, 29.80182867049049, 29.776145325397437, 29.783792070087436, 29.780400553018247]\n",
      "[36.1605225291529, 34.72811331678114, 33.55427868605136, 31.339270270919997, 29.846176979013464, 29.318514990501047, 29.189433911403057, 29.165035176497778, 29.20963191929579, 29.32679134537987, 29.470927903296054, 29.61131502802504, 29.696708464752653, 29.77251257910198, 29.8909509533125, 29.69632242602937, 29.80195436078733, 29.816792221642913, 29.708959387838924, 29.627896409208166, 29.788823754560177, 29.799646512584175, 29.650708573001914, 29.92834201525766, 29.916949028351752, 29.88029189613026, 29.863980290283436, 29.833929551454656, 29.84724135512252, 29.92264847510916, 29.891343713384288, 29.825838835707106, 29.78005633436014, 29.79667324928049, 29.805078229472205, 29.83917206116745, 29.821932359120698, 29.784187754206076, 29.80892965527705, 29.796861940411958, 29.803175726164593, 29.80182867049049, 29.776145325397437, 29.783792070087436, 29.780400553018247, 29.782243366419177]\n",
      "[36.1605225291529, 34.72811331678114, 33.55427868605136, 31.339270270919997, 29.846176979013464, 29.318514990501047, 29.189433911403057, 29.165035176497778, 29.20963191929579, 29.32679134537987, 29.470927903296054, 29.61131502802504, 29.696708464752653, 29.77251257910198, 29.8909509533125, 29.69632242602937, 29.80195436078733, 29.816792221642913, 29.708959387838924, 29.627896409208166, 29.788823754560177, 29.799646512584175, 29.650708573001914, 29.92834201525766, 29.916949028351752, 29.88029189613026, 29.863980290283436, 29.833929551454656, 29.84724135512252, 29.92264847510916, 29.891343713384288, 29.825838835707106, 29.78005633436014, 29.79667324928049, 29.805078229472205, 29.83917206116745, 29.821932359120698, 29.784187754206076, 29.80892965527705, 29.796861940411958, 29.803175726164593, 29.80182867049049, 29.776145325397437, 29.783792070087436, 29.780400553018247, 29.782243366419177, 29.7800974608583]\n",
      "[36.1605225291529, 34.72811331678114, 33.55427868605136, 31.339270270919997, 29.846176979013464, 29.318514990501047, 29.189433911403057, 29.165035176497778, 29.20963191929579, 29.32679134537987, 29.470927903296054, 29.61131502802504, 29.696708464752653, 29.77251257910198, 29.8909509533125, 29.69632242602937, 29.80195436078733, 29.816792221642913, 29.708959387838924, 29.627896409208166, 29.788823754560177, 29.799646512584175, 29.650708573001914, 29.92834201525766, 29.916949028351752, 29.88029189613026, 29.863980290283436, 29.833929551454656, 29.84724135512252, 29.92264847510916, 29.891343713384288, 29.825838835707106, 29.78005633436014, 29.79667324928049, 29.805078229472205, 29.83917206116745, 29.821932359120698, 29.784187754206076, 29.80892965527705, 29.796861940411958, 29.803175726164593, 29.80182867049049, 29.776145325397437, 29.783792070087436, 29.780400553018247, 29.782243366419177, 29.7800974608583, 29.780096938834216]\n",
      "[36.1605225291529, 34.72811331678114, 33.55427868605136, 31.339270270919997, 29.846176979013464, 29.318514990501047, 29.189433911403057, 29.165035176497778, 29.20963191929579, 29.32679134537987, 29.470927903296054, 29.61131502802504, 29.696708464752653, 29.77251257910198, 29.8909509533125, 29.69632242602937, 29.80195436078733, 29.816792221642913, 29.708959387838924, 29.627896409208166, 29.788823754560177, 29.799646512584175, 29.650708573001914, 29.92834201525766, 29.916949028351752, 29.88029189613026, 29.863980290283436, 29.833929551454656, 29.84724135512252, 29.92264847510916, 29.891343713384288, 29.825838835707106, 29.78005633436014, 29.79667324928049, 29.805078229472205, 29.83917206116745, 29.821932359120698, 29.784187754206076, 29.80892965527705, 29.796861940411958, 29.803175726164593, 29.80182867049049, 29.776145325397437, 29.783792070087436, 29.780400553018247, 29.782243366419177, 29.7800974608583, 29.780096938834216, 29.774871774814592]\n",
      "[36.1605225291529, 34.72811331678114, 33.55427868605136, 31.339270270919997, 29.846176979013464, 29.318514990501047, 29.189433911403057, 29.165035176497778, 29.20963191929579, 29.32679134537987, 29.470927903296054, 29.61131502802504, 29.696708464752653, 29.77251257910198, 29.8909509533125, 29.69632242602937, 29.80195436078733, 29.816792221642913, 29.708959387838924, 29.627896409208166, 29.788823754560177, 29.799646512584175, 29.650708573001914, 29.92834201525766, 29.916949028351752, 29.88029189613026, 29.863980290283436, 29.833929551454656, 29.84724135512252, 29.92264847510916, 29.891343713384288, 29.825838835707106, 29.78005633436014, 29.79667324928049, 29.805078229472205, 29.83917206116745, 29.821932359120698, 29.784187754206076, 29.80892965527705, 29.796861940411958, 29.803175726164593, 29.80182867049049, 29.776145325397437, 29.783792070087436, 29.780400553018247, 29.782243366419177, 29.7800974608583, 29.780096938834216, 29.774871774814592, 29.774871774814592]\n",
      "[36.1605225291529, 34.72811331678114, 33.55427868605136, 31.339270270919997, 29.846176979013464, 29.318514990501047, 29.189433911403057, 29.165035176497778, 29.20963191929579, 29.32679134537987, 29.470927903296054, 29.61131502802504, 29.696708464752653, 29.77251257910198, 29.8909509533125, 29.69632242602937, 29.80195436078733, 29.816792221642913, 29.708959387838924, 29.627896409208166, 29.788823754560177, 29.799646512584175, 29.650708573001914, 29.92834201525766, 29.916949028351752, 29.88029189613026, 29.863980290283436, 29.833929551454656, 29.84724135512252, 29.92264847510916, 29.891343713384288, 29.825838835707106, 29.78005633436014, 29.79667324928049, 29.805078229472205, 29.83917206116745, 29.821932359120698, 29.784187754206076, 29.80892965527705, 29.796861940411958, 29.803175726164593, 29.80182867049049, 29.776145325397437, 29.783792070087436, 29.780400553018247, 29.782243366419177, 29.7800974608583, 29.780096938834216, 29.774871774814592, 29.774871774814592, 29.774871774814592]\n"
     ]
    },
    {
     "name": "stdout",
     "output_type": "stream",
     "text": [
      "[36.1605225291529, 34.72811331678114, 33.55427868605136, 31.339270270919997, 29.846176979013464, 29.318514990501047, 29.189433911403057, 29.165035176497778, 29.20963191929579, 29.32679134537987, 29.470927903296054, 29.61131502802504, 29.696708464752653, 29.77251257910198, 29.8909509533125, 29.69632242602937, 29.80195436078733, 29.816792221642913, 29.708959387838924, 29.627896409208166, 29.788823754560177, 29.799646512584175, 29.650708573001914, 29.92834201525766, 29.916949028351752, 29.88029189613026, 29.863980290283436, 29.833929551454656, 29.84724135512252, 29.92264847510916, 29.891343713384288, 29.825838835707106, 29.78005633436014, 29.79667324928049, 29.805078229472205, 29.83917206116745, 29.821932359120698, 29.784187754206076, 29.80892965527705, 29.796861940411958, 29.803175726164593, 29.80182867049049, 29.776145325397437, 29.783792070087436, 29.780400553018247, 29.782243366419177, 29.7800974608583, 29.780096938834216, 29.774871774814592, 29.774871774814592, 29.774871774814592, 29.774871774814592]\n",
      "[36.1605225291529, 34.72811331678114, 33.55427868605136, 31.339270270919997, 29.846176979013464, 29.318514990501047, 29.189433911403057, 29.165035176497778, 29.20963191929579, 29.32679134537987, 29.470927903296054, 29.61131502802504, 29.696708464752653, 29.77251257910198, 29.8909509533125, 29.69632242602937, 29.80195436078733, 29.816792221642913, 29.708959387838924, 29.627896409208166, 29.788823754560177, 29.799646512584175, 29.650708573001914, 29.92834201525766, 29.916949028351752, 29.88029189613026, 29.863980290283436, 29.833929551454656, 29.84724135512252, 29.92264847510916, 29.891343713384288, 29.825838835707106, 29.78005633436014, 29.79667324928049, 29.805078229472205, 29.83917206116745, 29.821932359120698, 29.784187754206076, 29.80892965527705, 29.796861940411958, 29.803175726164593, 29.80182867049049, 29.776145325397437, 29.783792070087436, 29.780400553018247, 29.782243366419177, 29.7800974608583, 29.780096938834216, 29.774871774814592, 29.774871774814592, 29.774871774814592, 29.774871774814592, 29.774871774814592]\n",
      "[36.1605225291529, 34.72811331678114, 33.55427868605136, 31.339270270919997, 29.846176979013464, 29.318514990501047, 29.189433911403057, 29.165035176497778, 29.20963191929579, 29.32679134537987, 29.470927903296054, 29.61131502802504, 29.696708464752653, 29.77251257910198, 29.8909509533125, 29.69632242602937, 29.80195436078733, 29.816792221642913, 29.708959387838924, 29.627896409208166, 29.788823754560177, 29.799646512584175, 29.650708573001914, 29.92834201525766, 29.916949028351752, 29.88029189613026, 29.863980290283436, 29.833929551454656, 29.84724135512252, 29.92264847510916, 29.891343713384288, 29.825838835707106, 29.78005633436014, 29.79667324928049, 29.805078229472205, 29.83917206116745, 29.821932359120698, 29.784187754206076, 29.80892965527705, 29.796861940411958, 29.803175726164593, 29.80182867049049, 29.776145325397437, 29.783792070087436, 29.780400553018247, 29.782243366419177, 29.7800974608583, 29.780096938834216, 29.774871774814592, 29.774871774814592, 29.774871774814592, 29.774871774814592, 29.774871774814592, 29.774871774814592]\n",
      "[36.1605225291529, 34.72811331678114, 33.55427868605136, 31.339270270919997, 29.846176979013464, 29.318514990501047, 29.189433911403057, 29.165035176497778, 29.20963191929579, 29.32679134537987, 29.470927903296054, 29.61131502802504, 29.696708464752653, 29.77251257910198, 29.8909509533125, 29.69632242602937, 29.80195436078733, 29.816792221642913, 29.708959387838924, 29.627896409208166, 29.788823754560177, 29.799646512584175, 29.650708573001914, 29.92834201525766, 29.916949028351752, 29.88029189613026, 29.863980290283436, 29.833929551454656, 29.84724135512252, 29.92264847510916, 29.891343713384288, 29.825838835707106, 29.78005633436014, 29.79667324928049, 29.805078229472205, 29.83917206116745, 29.821932359120698, 29.784187754206076, 29.80892965527705, 29.796861940411958, 29.803175726164593, 29.80182867049049, 29.776145325397437, 29.783792070087436, 29.780400553018247, 29.782243366419177, 29.7800974608583, 29.780096938834216, 29.774871774814592, 29.774871774814592, 29.774871774814592, 29.774871774814592, 29.774871774814592, 29.774871774814592, 29.774871774814592]\n",
      "[36.1605225291529, 34.72811331678114, 33.55427868605136, 31.339270270919997, 29.846176979013464, 29.318514990501047, 29.189433911403057, 29.165035176497778, 29.20963191929579, 29.32679134537987, 29.470927903296054, 29.61131502802504, 29.696708464752653, 29.77251257910198, 29.8909509533125, 29.69632242602937, 29.80195436078733, 29.816792221642913, 29.708959387838924, 29.627896409208166, 29.788823754560177, 29.799646512584175, 29.650708573001914, 29.92834201525766, 29.916949028351752, 29.88029189613026, 29.863980290283436, 29.833929551454656, 29.84724135512252, 29.92264847510916, 29.891343713384288, 29.825838835707106, 29.78005633436014, 29.79667324928049, 29.805078229472205, 29.83917206116745, 29.821932359120698, 29.784187754206076, 29.80892965527705, 29.796861940411958, 29.803175726164593, 29.80182867049049, 29.776145325397437, 29.783792070087436, 29.780400553018247, 29.782243366419177, 29.7800974608583, 29.780096938834216, 29.774871774814592, 29.774871774814592, 29.774871774814592, 29.774871774814592, 29.774871774814592, 29.774871774814592, 29.774871774814592, 29.774871774814592]\n",
      "[36.1605225291529, 34.72811331678114, 33.55427868605136, 31.339270270919997, 29.846176979013464, 29.318514990501047, 29.189433911403057, 29.165035176497778, 29.20963191929579, 29.32679134537987, 29.470927903296054, 29.61131502802504, 29.696708464752653, 29.77251257910198, 29.8909509533125, 29.69632242602937, 29.80195436078733, 29.816792221642913, 29.708959387838924, 29.627896409208166, 29.788823754560177, 29.799646512584175, 29.650708573001914, 29.92834201525766, 29.916949028351752, 29.88029189613026, 29.863980290283436, 29.833929551454656, 29.84724135512252, 29.92264847510916, 29.891343713384288, 29.825838835707106, 29.78005633436014, 29.79667324928049, 29.805078229472205, 29.83917206116745, 29.821932359120698, 29.784187754206076, 29.80892965527705, 29.796861940411958, 29.803175726164593, 29.80182867049049, 29.776145325397437, 29.783792070087436, 29.780400553018247, 29.782243366419177, 29.7800974608583, 29.780096938834216, 29.774871774814592, 29.774871774814592, 29.774871774814592, 29.774871774814592, 29.774871774814592, 29.774871774814592, 29.774871774814592, 29.774871774814592, 29.774871774814592]\n",
      "[36.1605225291529, 34.72811331678114, 33.55427868605136, 31.339270270919997, 29.846176979013464, 29.318514990501047, 29.189433911403057, 29.165035176497778, 29.20963191929579, 29.32679134537987, 29.470927903296054, 29.61131502802504, 29.696708464752653, 29.77251257910198, 29.8909509533125, 29.69632242602937, 29.80195436078733, 29.816792221642913, 29.708959387838924, 29.627896409208166, 29.788823754560177, 29.799646512584175, 29.650708573001914, 29.92834201525766, 29.916949028351752, 29.88029189613026, 29.863980290283436, 29.833929551454656, 29.84724135512252, 29.92264847510916, 29.891343713384288, 29.825838835707106, 29.78005633436014, 29.79667324928049, 29.805078229472205, 29.83917206116745, 29.821932359120698, 29.784187754206076, 29.80892965527705, 29.796861940411958, 29.803175726164593, 29.80182867049049, 29.776145325397437, 29.783792070087436, 29.780400553018247, 29.782243366419177, 29.7800974608583, 29.780096938834216, 29.774871774814592, 29.774871774814592, 29.774871774814592, 29.774871774814592, 29.774871774814592, 29.774871774814592, 29.774871774814592, 29.774871774814592, 29.774871774814592, 29.774871774814592]\n",
      "[36.1605225291529, 34.72811331678114, 33.55427868605136, 31.339270270919997, 29.846176979013464, 29.318514990501047, 29.189433911403057, 29.165035176497778, 29.20963191929579, 29.32679134537987, 29.470927903296054, 29.61131502802504, 29.696708464752653, 29.77251257910198, 29.8909509533125, 29.69632242602937, 29.80195436078733, 29.816792221642913, 29.708959387838924, 29.627896409208166, 29.788823754560177, 29.799646512584175, 29.650708573001914, 29.92834201525766, 29.916949028351752, 29.88029189613026, 29.863980290283436, 29.833929551454656, 29.84724135512252, 29.92264847510916, 29.891343713384288, 29.825838835707106, 29.78005633436014, 29.79667324928049, 29.805078229472205, 29.83917206116745, 29.821932359120698, 29.784187754206076, 29.80892965527705, 29.796861940411958, 29.803175726164593, 29.80182867049049, 29.776145325397437, 29.783792070087436, 29.780400553018247, 29.782243366419177, 29.7800974608583, 29.780096938834216, 29.774871774814592, 29.774871774814592, 29.774871774814592, 29.774871774814592, 29.774871774814592, 29.774871774814592, 29.774871774814592, 29.774871774814592, 29.774871774814592, 29.774871774814592, 29.774871774814592]\n"
     ]
    }
   ],
   "source": [
    "from sklearn import model_selection\n",
    "X_train_tree = X_train[['1', '2', '52', '55', '61', '62']]\n",
    "depth_list = []\n",
    "rmse_test_list = []\n",
    "for i in range(1, 60):\n",
    "    rf_o = RandomForestRegressor(n_estimators=100, max_depth=i)\n",
    "    depth_list.append(i)\n",
    "    rmse_test = model_selection.cross_val_score(rf_o, X_train_tree, y_train, n_jobs=5, cv=3, scoring='neg_mean_squared_error')\n",
    "    rmse_test_list.append(math.sqrt(np.mean(-rmse_test)))\n",
    "    print(rmse_test_list)\n",
    "\n",
    "#plt.plot(depth_list, rmse_test_list, '--r')"
   ]
  },
  {
   "cell_type": "code",
   "execution_count": 4,
   "metadata": {},
   "outputs": [
    {
     "data": {
      "text/plain": [
       "[<matplotlib.lines.Line2D at 0x106207470>]"
      ]
     },
     "execution_count": 4,
     "metadata": {},
     "output_type": "execute_result"
    },
    {
     "data": {
      "image/png": "[encoded data removed]",
      "text/plain": [
       "<matplotlib.figure.Figure at 0x10817b438>"
      ]
     },
     "metadata": {
      "image/png": {
       "height": 250,
       "width": 370
      }
     },
     "output_type": "display_data"
    }
   ],
   "source": [
    "plt.plot(depth_list, rmse_test_list, '--r')"
   ]
  }
 ],
 "metadata": {
  "kernelspec": {
   "display_name": "Python 3",
   "language": "python",
   "name": "python3"
  },
  "language_info": {
   "codemirror_mode": {
    "name": "ipython",
    "version": 3
   },
   "file_extension": ".py",
   "mimetype": "text/x-python",
   "name": "python",
   "nbconvert_exporter": "python",
   "pygments_lexer": "ipython3",
   "version": "3.6.3"
  }
 },
 "nbformat": 4,
 "nbformat_minor": 2
}
